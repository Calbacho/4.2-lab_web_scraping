{
 "cells": [
  {
   "cell_type": "markdown",
   "metadata": {},
   "source": [
    "# Web Scraping Lab\n",
    "\n",
    "You will find in this notebook some scrapy exercises to practise your scraping skills.\n",
    "\n",
    "**Tips:**\n",
    "\n",
    "- Check the response status code for each request to ensure you have obtained the intended contennt.\n",
    "- Print the response text in each request to understand the kind of info you are getting and its format.\n",
    "- Check for patterns in the response text to extract the data/info requested in each question.\n",
    "- Visit each url and take a look at its source through Chrome DevTools. You'll need to identify the html tags, special class names etc. used for the html content you are expected to extract."
   ]
  },
  {
   "cell_type": "markdown",
   "metadata": {},
   "source": [
    "- [Requests library](http://docs.python-requests.org/en/master/#the-user-guide) documentation \n",
    "- [Beautiful Soup Doc](https://www.crummy.com/software/BeautifulSoup/bs4/doc/)\n",
    "- [Urllib](https://docs.python.org/3/library/urllib.html#module-urllib)\n",
    "- [re lib](https://docs.python.org/3/library/re.html)\n",
    "- [lxml lib](https://lxml.de/)\n",
    "- [Scrapy](https://scrapy.org/)\n",
    "- [List of HTTP status codes](https://en.wikipedia.org/wiki/List_of_HTTP_status_codes)\n",
    "- [HTML basics](http://www.simplehtmlguide.com/cheatsheet.php)\n",
    "- [CSS basics](https://www.cssbasics.com/#page_start)"
   ]
  },
  {
   "cell_type": "markdown",
   "metadata": {},
   "source": [
    "#### Below are the libraries and modules you may need. `requests`,  `BeautifulSoup` and `pandas` are imported for you. If you prefer to use additional libraries feel free to uncomment them."
   ]
  },
  {
   "cell_type": "code",
   "execution_count": 245,
   "metadata": {},
   "outputs": [],
   "source": [
    "import requests as req\n",
    "from bs4 import BeautifulSoup as bs\n",
    "import pandas as pd\n",
    "from IPython.display import Image\n",
    "from IPython.display import HTML\n",
    "# from pprint import pprint\n",
    "# from lxml import html\n",
    "# from lxml.html import fromstring\n",
    "# import urllib.request\n",
    "# from urllib.request import urlopen\n",
    "# import random\n",
    "# import re\n",
    "# import scrapy"
   ]
  },
  {
   "cell_type": "markdown",
   "metadata": {},
   "source": [
    "#### Download, parse (using BeautifulSoup), and print the content from the Trending Developers page from GitHub:"
   ]
  },
  {
   "cell_type": "code",
   "execution_count": 3,
   "metadata": {},
   "outputs": [],
   "source": [
    "# This is the url you will scrape in this exercise\n",
    "url = 'https://github.com/trending/developers'"
   ]
  },
  {
   "cell_type": "code",
   "execution_count": 110,
   "metadata": {},
   "outputs": [],
   "source": [
    "html = req.get(url).content\n",
    "soup=bs(html, 'html.parser')"
   ]
  },
  {
   "cell_type": "markdown",
   "metadata": {},
   "source": [
    "#### Display the names of the trending developers retrieved in the previous step.\n",
    "\n",
    "Your output should be a Python list of developer names. Each name should not contain any html tag.\n",
    "\n",
    "**Instructions:**\n",
    "\n",
    "1. Find out the html tag and class names used for the developer names. You can achieve this using Chrome DevTools.\n",
    "\n",
    "1. Use BeautifulSoup to extract all the html elements that contain the developer names.\n",
    "\n",
    "1. Use string manipulation techniques to replace whitespaces and linebreaks (i.e. `\\n`) in the *text* of each html element. Use a list to store the clean names.\n",
    "\n",
    "1. Print the list of names.\n",
    "\n",
    "Your output should look like below:\n",
    "\n",
    "```\n",
    "['trimstray (@trimstray)',\n",
    " 'joewalnes (JoeWalnes)',\n",
    " 'charlax (Charles-AxelDein)',\n",
    " 'ForrestKnight (ForrestKnight)',\n",
    " 'revery-ui (revery-ui)',\n",
    " 'alibaba (Alibaba)',\n",
    " 'Microsoft (Microsoft)',\n",
    " 'github (GitHub)',\n",
    " 'facebook (Facebook)',\n",
    " 'boazsegev (Bo)',\n",
    " 'google (Google)',\n",
    " 'cloudfetch',\n",
    " 'sindresorhus (SindreSorhus)',\n",
    " 'tensorflow',\n",
    " 'apache (TheApacheSoftwareFoundation)',\n",
    " 'DevonCrawford (DevonCrawford)',\n",
    " 'ARMmbed (ArmMbed)',\n",
    " 'vuejs (vuejs)',\n",
    " 'fastai (fast.ai)',\n",
    " 'QiShaoXuan (Qi)',\n",
    " 'joelparkerhenderson (JoelParkerHenderson)',\n",
    " 'torvalds (LinusTorvalds)',\n",
    " 'CyC2018',\n",
    " 'komeiji-satori (神楽坂覚々)',\n",
    " 'script-8']\n",
    " ```"
   ]
  },
  {
   "cell_type": "code",
   "execution_count": 107,
   "metadata": {},
   "outputs": [
    {
     "data": {
      "text/plain": [
       "['Ariel Mashraki',\n",
       " 'Mattias Wadman',\n",
       " 'Henrik Rydgård',\n",
       " 'Mark Tyneway',\n",
       " 'Lincoln Stein',\n",
       " 'jxxghp',\n",
       " 'Paul Razvan Berg',\n",
       " 'Florian Roth',\n",
       " 'MichaIng',\n",
       " 'Vectorized',\n",
       " 'Lianmin Zheng',\n",
       " 'X.',\n",
       " 'Norbert de Langen',\n",
       " 'Stefan Prodan',\n",
       " 'Jaco',\n",
       " 'François Chollet',\n",
       " 'Michał Lytek',\n",
       " 'Lukas Taegert-Atkinson',\n",
       " 'Ben McCann',\n",
       " 'Antonio Cheong',\n",
       " 'Maarten Grootendorst',\n",
       " 'Leon',\n",
       " 'syuilo',\n",
       " 'Abhinav Gupta',\n",
       " 'Yair Morgenstern']"
      ]
     },
     "execution_count": 107,
     "metadata": {},
     "output_type": "execute_result"
    }
   ],
   "source": [
    "h1=soup.find_all('h1', {'class':'h3 lh-condensed'})\n",
    "names = []\n",
    "\n",
    "for i in h1:\n",
    "    names.append(i.text.strip())\n",
    "\n",
    "names"
   ]
  },
  {
   "cell_type": "markdown",
   "metadata": {},
   "source": [
    "#### Display the trending Python repositories in GitHub\n",
    "\n",
    "The steps to solve this problem is similar to the previous one except that you need to find out the repository names instead of developer names."
   ]
  },
  {
   "cell_type": "code",
   "execution_count": 168,
   "metadata": {},
   "outputs": [],
   "source": [
    "# This is the url you will scrape in this exercise\n",
    "url = 'https://github.com/trending/python?since=daily'\n",
    "html = req.get(url).content\n",
    "soup=bs(html, 'html.parser')"
   ]
  },
  {
   "cell_type": "code",
   "execution_count": 169,
   "metadata": {},
   "outputs": [],
   "source": [
    "h1=soup.find_all('h1', {'class':'h3 lh-condensed'})"
   ]
  },
  {
   "cell_type": "code",
   "execution_count": 150,
   "metadata": {},
   "outputs": [
    {
     "data": {
      "text/plain": [
       "['acheong08/ChatGPT',\n",
       " 'Zero6992/chatGPT-discord-bot',\n",
       " 'TheAlgorithms/Python',\n",
       " 'LAION-AI/Open-Assistant',\n",
       " 'ddPn08/Lsmith',\n",
       " 'zhayujie/chatgpt-on-wechat',\n",
       " 'LeagueOfPoro/CapsuleFarmerEvolved',\n",
       " 'microsoft/BioGPT',\n",
       " 'BlinkDL/ChatRWKV',\n",
       " 'AIGCT/EASYChatGPT',\n",
       " 'mmz-001/knowledge_gpt',\n",
       " 'jxxghp/nas-tools',\n",
       " 'tiangolo/fastapi',\n",
       " 'TomSchimansky/CustomTkinter',\n",
       " 'Rudrabha/Wav2Lip',\n",
       " 'public-apis/public-apis',\n",
       " 'biancangming/wtv',\n",
       " 'chidiwilliams/buzz',\n",
       " 'bellingcat/octosuite',\n",
       " 'approximatelabs/sketch',\n",
       " 'yerfor/GeneFace',\n",
       " 'uptrain-ai/uptrain',\n",
       " 'facebookresearch/metaseq',\n",
       " 'lss233/chatgpt-mirai-qq-bot',\n",
       " 'ansible/ansible']"
      ]
     },
     "execution_count": 150,
     "metadata": {},
     "output_type": "execute_result"
    }
   ],
   "source": [
    "lst = []\n",
    "\n",
    "for e in h1:\n",
    "    \n",
    "    rep = ''\n",
    "    \n",
    "    for i in e.text.split():\n",
    "        \n",
    "        rep = rep + i\n",
    "        \n",
    "    lst.append(rep)\n",
    "lst"
   ]
  },
  {
   "cell_type": "markdown",
   "metadata": {},
   "source": [
    "#### Display all the image links from Walt Disney wikipedia page"
   ]
  },
  {
   "cell_type": "code",
   "execution_count": 173,
   "metadata": {},
   "outputs": [],
   "source": [
    "# This is the url you will scrape in this exercise\n",
    "url = 'https://en.wikipedia.org/wiki/Walt_Disney'\n",
    "html = req.get(url).content\n",
    "soup=bs(html, 'html.parser')"
   ]
  },
  {
   "cell_type": "code",
   "execution_count": 210,
   "metadata": {},
   "outputs": [
    {
     "name": "stdout",
     "output_type": "stream",
     "text": [
      "/static/images/icons/wikipedia.png\n",
      "/static/images/mobile/copyright/wikipedia-wordmark-en.svg\n",
      "/static/images/mobile/copyright/wikipedia-tagline-en.svg\n",
      "//upload.wikimedia.org/wikipedia/en/thumb/e/e7/Cscr-featured.svg/20px-Cscr-featured.svg.png\n",
      "//upload.wikimedia.org/wikipedia/en/thumb/8/8c/Extended-protection-shackle.svg/20px-Extended-protection-shackle.svg.png\n"
     ]
    }
   ],
   "source": [
    "a1=soup.find_all('img')\n",
    "\n",
    "#para no imprimir todo...\n",
    "for i in a1[:5]:\n",
    "    print(i.get('src'))\n"
   ]
  },
  {
   "cell_type": "markdown",
   "metadata": {},
   "source": [
    "#### Retrieve an arbitary Wikipedia page of \"Python\" and create a list of links on that page"
   ]
  },
  {
   "cell_type": "code",
   "execution_count": 211,
   "metadata": {},
   "outputs": [],
   "source": [
    "# This is the url you will scrape in this exercise\n",
    "url ='https://en.wikipedia.org/wiki/Python' \n",
    "html = req.get(url).content\n",
    "soup=bs(html, 'html.parser')"
   ]
  },
  {
   "cell_type": "code",
   "execution_count": 233,
   "metadata": {},
   "outputs": [],
   "source": [
    "link =soup.find_all('a')\n",
    "\n",
    "lst = []\n",
    "\n",
    "for i in link:\n",
    "    lst.append(i.get('href'))"
   ]
  },
  {
   "cell_type": "markdown",
   "metadata": {},
   "source": [
    "#### Number of Titles that have changed in the United States Code since its last release point "
   ]
  },
  {
   "cell_type": "code",
   "execution_count": 234,
   "metadata": {},
   "outputs": [],
   "source": [
    "# This is the url you will scrape in this exercise\n",
    "url = 'http://uscode.house.gov/download/download.shtml'\n",
    "html = req.get(url).content\n",
    "soup=bs(html, 'html.parser')"
   ]
  },
  {
   "cell_type": "code",
   "execution_count": 239,
   "metadata": {},
   "outputs": [
    {
     "data": {
      "text/plain": [
       "14"
      ]
     },
     "execution_count": 239,
     "metadata": {},
     "output_type": "execute_result"
    }
   ],
   "source": [
    "title =soup.find_all('div', {'class':'usctitlechanged'})\n",
    "len(title)"
   ]
  },
  {
   "cell_type": "markdown",
   "metadata": {},
   "source": [
    "#### A Python list with the top ten FBI's Most Wanted names "
   ]
  },
  {
   "cell_type": "code",
   "execution_count": 243,
   "metadata": {},
   "outputs": [],
   "source": [
    "# This is the url you will scrape in this exercise\n",
    "url = 'https://www.fbi.gov/wanted/topten'\n",
    "html = req.get(url).content\n",
    "soup=bs(html, 'html.parser')"
   ]
  },
  {
   "cell_type": "code",
   "execution_count": 244,
   "metadata": {},
   "outputs": [
    {
     "data": {
      "text/plain": [
       "['RUJA IGNATOVA',\n",
       " 'ARNOLDO JIMENEZ',\n",
       " 'OMAR ALEXANDER CARDENAS',\n",
       " 'ALEXIS FLORES',\n",
       " 'YULAN ADONAY ARCHAGA CARIAS',\n",
       " 'BHADRESHKUMAR CHETANBHAI PATEL',\n",
       " 'ALEJANDRO ROSALES CASTILLO',\n",
       " 'JOSE RODOLFO VILLARREAL-HERNANDEZ',\n",
       " 'MICHAEL JAMES PRATT',\n",
       " 'RAFAEL CARO-QUINTERO']"
      ]
     },
     "execution_count": 244,
     "metadata": {},
     "output_type": "execute_result"
    }
   ],
   "source": [
    "ase =soup.find_all('h3', {'class':'title'})\n",
    "names = []\n",
    "\n",
    "for i in ase:\n",
    "    names.append(i.text.strip())\n",
    "\n",
    "names"
   ]
  },
  {
   "cell_type": "markdown",
   "metadata": {},
   "source": [
    "####  20 latest earthquakes info (date, time, latitude, longitude and region name) by the EMSC as a pandas dataframe"
   ]
  },
  {
   "cell_type": "code",
   "execution_count": 246,
   "metadata": {},
   "outputs": [],
   "source": [
    "# This is the url you will scrape in this exercise\n",
    "url = 'https://www.emsc-csem.org/Earthquake/'\n",
    "html = req.get(url).content\n",
    "soup=bs(html, 'html.parser')"
   ]
  },
  {
   "cell_type": "code",
   "execution_count": 261,
   "metadata": {},
   "outputs": [
    {
     "data": {
      "text/plain": [
       "[[''],\n",
       " ['CitizenResponseDate & Time UTCLatitude degreesLongitude degreesDepth kmMag  [+]Region name  [+]Last update [-]'],\n",
       " [''],\n",
       " [''],\n",
       " ['12345678910›»']]"
      ]
     },
     "execution_count": 261,
     "metadata": {},
     "output_type": "execute_result"
    }
   ],
   "source": [
    "terre =soup.find_all('table')\n",
    "tabla = terre[3]\n",
    "type(tabla)\n",
    "\n",
    "filas = tabla.find_all('tr')\n",
    "\n",
    "filas = [f.text.strip().split('\\n') for f in filas]\n",
    "\n",
    "filas[:5]"
   ]
  },
  {
   "cell_type": "code",
   "execution_count": 263,
   "metadata": {},
   "outputs": [
    {
     "data": {
      "text/plain": [
       "[[],\n",
       " ['CitizenResponseDate & Time UTCLatitude degreesLongitude degreesDepth kmMag  [+]Region name  [+]Last update [-]'],\n",
       " [],\n",
       " [],\n",
       " ['12345678910›»']]"
      ]
     },
     "execution_count": 263,
     "metadata": {},
     "output_type": "execute_result"
    }
   ],
   "source": [
    "final = [[palabra for palabra in f if palabra!=''] for f in filas]\n",
    "\n",
    "final[:5]"
   ]
  },
  {
   "cell_type": "code",
   "execution_count": 264,
   "metadata": {},
   "outputs": [
    {
     "data": {
      "text/html": [
       "<div>\n",
       "<style scoped>\n",
       "    .dataframe tbody tr th:only-of-type {\n",
       "        vertical-align: middle;\n",
       "    }\n",
       "\n",
       "    .dataframe tbody tr th {\n",
       "        vertical-align: top;\n",
       "    }\n",
       "\n",
       "    .dataframe thead th {\n",
       "        text-align: right;\n",
       "    }\n",
       "</style>\n",
       "<table border=\"1\" class=\"dataframe\">\n",
       "  <thead>\n",
       "    <tr style=\"text-align: right;\">\n",
       "      <th></th>\n",
       "      <th></th>\n",
       "    </tr>\n",
       "  </thead>\n",
       "  <tbody>\n",
       "    <tr>\n",
       "      <th>0</th>\n",
       "      <td>CitizenResponseDate &amp; Time UTCLatitude degrees...</td>\n",
       "    </tr>\n",
       "    <tr>\n",
       "      <th>1</th>\n",
       "      <td></td>\n",
       "    </tr>\n",
       "    <tr>\n",
       "      <th>2</th>\n",
       "      <td></td>\n",
       "    </tr>\n",
       "    <tr>\n",
       "      <th>3</th>\n",
       "      <td>12345678910›»</td>\n",
       "    </tr>\n",
       "    <tr>\n",
       "      <th>4</th>\n",
       "      <td>1IVearthquake2023-02-07   19:24:30.010min ago3...</td>\n",
       "    </tr>\n",
       "  </tbody>\n",
       "</table>\n",
       "</div>"
      ],
      "text/plain": [
       "                                                    \n",
       "0  CitizenResponseDate & Time UTCLatitude degrees...\n",
       "1                                                   \n",
       "2                                                   \n",
       "3                                      12345678910›»\n",
       "4  1IVearthquake2023-02-07   19:24:30.010min ago3..."
      ]
     },
     "execution_count": 264,
     "metadata": {},
     "output_type": "execute_result"
    }
   ],
   "source": [
    "import pandas as pd\n",
    "\n",
    "\n",
    "col_names = filas[0]\n",
    "\n",
    "data = filas[1:]\n",
    "\n",
    "\n",
    "df=pd.DataFrame(data, columns=col_names)\n",
    "\n",
    "df.head()"
   ]
  },
  {
   "cell_type": "markdown",
   "metadata": {},
   "source": [
    "#### Display the date, days, title, city, country of next 25 hackathon events as a Pandas dataframe table"
   ]
  },
  {
   "cell_type": "code",
   "execution_count": null,
   "metadata": {},
   "outputs": [],
   "source": [
    "# This is the url you will scrape in this exercise\n",
    "url ='https://hackevents.co/hackathons'"
   ]
  },
  {
   "cell_type": "code",
   "execution_count": null,
   "metadata": {},
   "outputs": [],
   "source": [
    "#your code"
   ]
  },
  {
   "cell_type": "markdown",
   "metadata": {},
   "source": [
    "#### Count number of tweets by a given Twitter account."
   ]
  },
  {
   "cell_type": "markdown",
   "metadata": {},
   "source": [
    "You will need to include a ***try/except block*** for account names not found. \n",
    "<br>***Hint:*** the program should count the number of tweets for any provided account"
   ]
  },
  {
   "cell_type": "code",
   "execution_count": null,
   "metadata": {},
   "outputs": [],
   "source": [
    "# This is the url you will scrape in this exercise \n",
    "# You will need to add the account credentials to this url\n",
    "url = 'https://twitter.com/'"
   ]
  },
  {
   "cell_type": "code",
   "execution_count": null,
   "metadata": {},
   "outputs": [],
   "source": [
    "#your code"
   ]
  },
  {
   "cell_type": "markdown",
   "metadata": {},
   "source": [
    "#### Number of followers of a given twitter account"
   ]
  },
  {
   "cell_type": "markdown",
   "metadata": {},
   "source": [
    "You will need to include a ***try/except block*** in case account/s name not found. \n",
    "<br>***Hint:*** the program should count the followers for any provided account"
   ]
  },
  {
   "cell_type": "code",
   "execution_count": null,
   "metadata": {},
   "outputs": [],
   "source": [
    "# This is the url you will scrape in this exercise \n",
    "# You will need to add the account credentials to this url\n",
    "url = 'https://twitter.com/'"
   ]
  },
  {
   "cell_type": "code",
   "execution_count": null,
   "metadata": {},
   "outputs": [],
   "source": [
    "#your code"
   ]
  },
  {
   "cell_type": "markdown",
   "metadata": {},
   "source": [
    "#### List all language names and number of related articles in the order they appear in wikipedia.org"
   ]
  },
  {
   "cell_type": "code",
   "execution_count": 265,
   "metadata": {},
   "outputs": [],
   "source": [
    "# This is the url you will scrape in this exercise\n",
    "url = 'https://www.wikipedia.org/'\n",
    "html = req.get(url).content\n",
    "soup=bs(html, 'html.parser')"
   ]
  },
  {
   "cell_type": "code",
   "execution_count": 284,
   "metadata": {},
   "outputs": [
    {
     "data": {
      "text/plain": [
       "[' English 6 606 000+ articles',\n",
       " ' Русский 1 887 000+ статей',\n",
       " ' 日本語 1 359 000+ 記事',\n",
       " ' Deutsch 2 764 000+ Artikel',\n",
       " ' Français 2 488 000+ articles',\n",
       " ' Español 1 833 000+ artículos',\n",
       " ' Italiano 1 792 000+ voci',\n",
       " ' 中文 1 331 000+ 条目 / 條目',\n",
       " ' فارسی 947 000+ مقاله',\n",
       " ' Polski 1 552 000+ haseł']"
      ]
     },
     "execution_count": 284,
     "metadata": {},
     "output_type": "execute_result"
    }
   ],
   "source": [
    "lang =soup.find_all('div', {'class':'central-featured-lang'})\n",
    "\n",
    "lst = []\n",
    "\n",
    "for e in lang:\n",
    "    \n",
    "    rep = ''\n",
    "    \n",
    "    for i in e.text.split():\n",
    "        \n",
    "        rep = rep + ' ' + i\n",
    "        \n",
    "    lst.append(rep)\n",
    "lst"
   ]
  },
  {
   "cell_type": "markdown",
   "metadata": {},
   "source": [
    "#### A list with the different kind of datasets available in data.gov.uk "
   ]
  },
  {
   "cell_type": "code",
   "execution_count": 285,
   "metadata": {},
   "outputs": [],
   "source": [
    "url = 'https://data.gov.uk/'\n",
    "html = req.get(url).content\n",
    "soup=bs(html, 'html.parser')"
   ]
  },
  {
   "cell_type": "code",
   "execution_count": 293,
   "metadata": {},
   "outputs": [
    {
     "data": {
      "text/plain": [
       "['Business and economy',\n",
       " 'Crime and justice',\n",
       " 'Defence',\n",
       " 'Education',\n",
       " 'Environment',\n",
       " 'Government',\n",
       " 'Government spending',\n",
       " 'Health',\n",
       " 'Mapping',\n",
       " 'Society',\n",
       " 'Towns and cities',\n",
       " 'Transport',\n",
       " 'Digital service performance',\n",
       " 'Government reference data']"
      ]
     },
     "execution_count": 293,
     "metadata": {},
     "output_type": "execute_result"
    }
   ],
   "source": [
    "uk =soup.find_all('h3', {'class':'govuk-heading-s dgu-topics__heading'})\n",
    "\n",
    "lst = []\n",
    "for i in uk:\n",
    "    lst.append(i.text)\n",
    "lst"
   ]
  },
  {
   "cell_type": "markdown",
   "metadata": {},
   "source": [
    "#### Top 10 languages by number of native speakers stored in a Pandas Dataframe"
   ]
  },
  {
   "cell_type": "code",
   "execution_count": 294,
   "metadata": {},
   "outputs": [],
   "source": [
    "# This is the url you will scrape in this exercise\n",
    "url = 'https://en.wikipedia.org/wiki/List_of_languages_by_number_of_native_speakers'\n",
    "html = req.get(url).content\n",
    "soup=bs(html, 'html.parser')"
   ]
  },
  {
   "cell_type": "code",
   "execution_count": 311,
   "metadata": {},
   "outputs": [
    {
     "data": {
      "text/plain": [
       "[<table class=\"wikitable sortable static-row-numbers\">\n",
       " <caption>Languages with at least 50 million first-language speakers<sup class=\"reference\" id=\"cite_ref-Ethnologue2022_7-1\"><a href=\"#cite_note-Ethnologue2022-7\">[7]</a></sup>\n",
       " </caption>\n",
       " <tbody><tr>\n",
       " <th>Language\n",
       " </th>\n",
       " <th data-sort-type=\"number\">Native speakers<br/><small>(millions)</small>\n",
       " </th>\n",
       " <th>Language family\n",
       " </th>\n",
       " <th>Branch\n",
       " </th></tr>\n",
       " <tr>\n",
       " <td><a class=\"mw-redirect\" href=\"/wiki/ISO_639:cmn\" title=\"ISO 639:cmn\">Mandarin Chinese</a><br/>(incl. <a href=\"/wiki/Standard_Chinese\" title=\"Standard Chinese\">Standard Chinese</a>, but excl. <a href=\"/wiki/Varieties_of_Chinese\" title=\"Varieties of Chinese\">other varieties</a>)\n",
       " </td>\n",
       " <td>920\n",
       " </td>\n",
       " <td><a href=\"/wiki/Sino-Tibetan_languages\" title=\"Sino-Tibetan languages\">Sino-Tibetan</a>\n",
       " </td>\n",
       " <td><a href=\"/wiki/Varieties_of_Chinese\" title=\"Varieties of Chinese\">Sinitic</a>\n",
       " </td></tr>\n",
       " <tr>\n",
       " <td><a class=\"mw-redirect\" href=\"/wiki/ISO_639:spa\" title=\"ISO 639:spa\">Spanish</a>\n",
       " </td>\n",
       " <td>475\n",
       " </td>\n",
       " <td><a href=\"/wiki/Indo-European_languages\" title=\"Indo-European languages\">Indo-European</a>\n",
       " </td>\n",
       " <td><a href=\"/wiki/Romance_languages\" title=\"Romance languages\">Romance</a>\n",
       " </td></tr>\n",
       " <tr>\n",
       " <td><a class=\"mw-redirect\" href=\"/wiki/ISO_639:eng\" title=\"ISO 639:eng\">English</a>\n",
       " </td>\n",
       " <td>373\n",
       " </td>\n",
       " <td><a href=\"/wiki/Indo-European_languages\" title=\"Indo-European languages\">Indo-European</a>\n",
       " </td>\n",
       " <td><a href=\"/wiki/Germanic_languages\" title=\"Germanic languages\">Germanic</a>\n",
       " </td></tr>\n",
       " <tr>\n",
       " <td><a class=\"mw-redirect\" href=\"/wiki/ISO_639:hin\" title=\"ISO 639:hin\">Hindi</a><br/>(excl. <a href=\"/wiki/Urdu\" title=\"Urdu\">Urdu</a>)\n",
       " </td>\n",
       " <td>344\n",
       " </td>\n",
       " <td><a href=\"/wiki/Indo-European_languages\" title=\"Indo-European languages\">Indo-European</a>\n",
       " </td>\n",
       " <td><a href=\"/wiki/Indo-Aryan_languages\" title=\"Indo-Aryan languages\">Indo-Aryan</a>\n",
       " </td></tr>\n",
       " <tr>\n",
       " <td><a class=\"mw-redirect\" href=\"/wiki/ISO_639:ben\" title=\"ISO 639:ben\">Bengali</a>\n",
       " </td>\n",
       " <td>234\n",
       " </td>\n",
       " <td><a href=\"/wiki/Indo-European_languages\" title=\"Indo-European languages\">Indo-European</a>\n",
       " </td>\n",
       " <td><a href=\"/wiki/Indo-Aryan_languages\" title=\"Indo-Aryan languages\">Indo-Aryan</a>\n",
       " </td></tr>\n",
       " <tr>\n",
       " <td><a class=\"mw-redirect\" href=\"/wiki/ISO_639:por\" title=\"ISO 639:por\">Portuguese</a>\n",
       " </td>\n",
       " <td>232\n",
       " </td>\n",
       " <td><a href=\"/wiki/Indo-European_languages\" title=\"Indo-European languages\">Indo-European</a>\n",
       " </td>\n",
       " <td><a href=\"/wiki/Romance_languages\" title=\"Romance languages\">Romance</a>\n",
       " </td></tr>\n",
       " <tr>\n",
       " <td><a class=\"mw-redirect\" href=\"/wiki/ISO_639:rus\" title=\"ISO 639:rus\">Russian</a>\n",
       " </td>\n",
       " <td>154\n",
       " </td>\n",
       " <td><a href=\"/wiki/Indo-European_languages\" title=\"Indo-European languages\">Indo-European</a>\n",
       " </td>\n",
       " <td><a href=\"/wiki/Balto-Slavic_languages\" title=\"Balto-Slavic languages\">Balto-Slavic</a>\n",
       " </td></tr>\n",
       " <tr>\n",
       " <td><a class=\"mw-redirect\" href=\"/wiki/ISO_639:jpn\" title=\"ISO 639:jpn\">Japanese</a>\n",
       " </td>\n",
       " <td>125\n",
       " </td>\n",
       " <td><a href=\"/wiki/Japonic_languages\" title=\"Japonic languages\">Japonic</a>\n",
       " </td>\n",
       " <td><a href=\"/wiki/Japanese_language\" title=\"Japanese language\">Japanese</a>\n",
       " </td></tr>\n",
       " <tr>\n",
       " <td><a class=\"mw-redirect\" href=\"/wiki/ISO_639:yue\" title=\"ISO 639:yue\">Yue Chinese</a><br/>(incl. <a href=\"/wiki/Cantonese\" title=\"Cantonese\">Cantonese</a>)\n",
       " </td>\n",
       " <td>85.2\n",
       " </td>\n",
       " <td><a href=\"/wiki/Sino-Tibetan_languages\" title=\"Sino-Tibetan languages\">Sino-Tibetan</a>\n",
       " </td>\n",
       " <td><a href=\"/wiki/Varieties_of_Chinese\" title=\"Varieties of Chinese\">Sinitic</a>\n",
       " </td></tr>\n",
       " <tr>\n",
       " <td><a class=\"mw-redirect\" href=\"/wiki/ISO_639:vie\" title=\"ISO 639:vie\">Vietnamese</a>\n",
       " </td>\n",
       " <td>84.6\n",
       " </td>\n",
       " <td><a href=\"/wiki/Austroasiatic_languages\" title=\"Austroasiatic languages\">Austroasiatic</a>\n",
       " </td>\n",
       " <td><a href=\"/wiki/Vietic_languages\" title=\"Vietic languages\">Vietic</a>\n",
       " </td></tr>\n",
       " <tr>\n",
       " <td><a class=\"mw-redirect\" href=\"/wiki/ISO_639:mar\" title=\"ISO 639:mar\">Marathi</a>\n",
       " </td>\n",
       " <td>83.1\n",
       " </td>\n",
       " <td><a href=\"/wiki/Indo-European_languages\" title=\"Indo-European languages\">Indo-European</a>\n",
       " </td>\n",
       " <td><a href=\"/wiki/Indo-Aryan_languages\" title=\"Indo-Aryan languages\">Indo-Aryan</a>\n",
       " </td></tr>\n",
       " <tr>\n",
       " <td><a class=\"mw-redirect\" href=\"/wiki/ISO_639:tel\" title=\"ISO 639:tel\">Telugu</a>\n",
       " </td>\n",
       " <td>82.7\n",
       " </td>\n",
       " <td><a href=\"/wiki/Dravidian_languages\" title=\"Dravidian languages\">Dravidian</a>\n",
       " </td>\n",
       " <td>South-Central\n",
       " </td></tr>\n",
       " <tr>\n",
       " <td><a class=\"mw-redirect\" href=\"/wiki/ISO_639:tur\" title=\"ISO 639:tur\">Turkish</a>\n",
       " </td>\n",
       " <td>82.2\n",
       " </td>\n",
       " <td><a href=\"/wiki/Turkic_languages\" title=\"Turkic languages\">Turkic</a>\n",
       " </td>\n",
       " <td><a href=\"/wiki/Oghuz_languages\" title=\"Oghuz languages\">Oghuz</a>\n",
       " </td></tr>\n",
       " <tr>\n",
       " <td><a class=\"mw-redirect\" href=\"/wiki/ISO_639:wuu\" title=\"ISO 639:wuu\">Wu Chinese</a><br/>(incl. <a href=\"/wiki/Shanghainese\" title=\"Shanghainese\">Shanghainese</a>)\n",
       " </td>\n",
       " <td>81.8\n",
       " </td>\n",
       " <td><a href=\"/wiki/Sino-Tibetan_languages\" title=\"Sino-Tibetan languages\">Sino-Tibetan</a>\n",
       " </td>\n",
       " <td><a href=\"/wiki/Varieties_of_Chinese\" title=\"Varieties of Chinese\">Sinitic</a>\n",
       " </td></tr>\n",
       " <tr>\n",
       " <td><a class=\"mw-redirect\" href=\"/wiki/ISO_639:kor\" title=\"ISO 639:kor\">Korean</a>\n",
       " </td>\n",
       " <td>81.7\n",
       " </td>\n",
       " <td><a href=\"/wiki/Koreanic_languages\" title=\"Koreanic languages\">Koreanic</a>\n",
       " </td>\n",
       " <td><a href=\"/wiki/Language_isolate\" title=\"Language isolate\">language isolate</a>\n",
       " </td></tr>\n",
       " <tr>\n",
       " <td><a class=\"mw-redirect\" href=\"/wiki/ISO_639:fra\" title=\"ISO 639:fra\">French</a>\n",
       " </td>\n",
       " <td>79.9\n",
       " </td>\n",
       " <td><a href=\"/wiki/Indo-European_languages\" title=\"Indo-European languages\">Indo-European</a>\n",
       " </td>\n",
       " <td><a href=\"/wiki/Romance_languages\" title=\"Romance languages\">Romance</a>\n",
       " </td></tr>\n",
       " <tr>\n",
       " <td><a class=\"mw-redirect\" href=\"/wiki/ISO_639:tam\" title=\"ISO 639:tam\">Tamil</a>\n",
       " </td>\n",
       " <td>78.4\n",
       " </td>\n",
       " <td><a href=\"/wiki/Dravidian_languages\" title=\"Dravidian languages\">Dravidian</a>\n",
       " </td>\n",
       " <td>South\n",
       " </td></tr>\n",
       " <tr>\n",
       " <td><a class=\"mw-redirect\" href=\"/wiki/ISO_639:deu\" title=\"ISO 639:deu\">Standard German</a>\n",
       " </td>\n",
       " <td>75.6\n",
       " </td>\n",
       " <td><a href=\"/wiki/Indo-European_languages\" title=\"Indo-European languages\">Indo-European</a>\n",
       " </td>\n",
       " <td><a href=\"/wiki/Germanic_languages\" title=\"Germanic languages\">Germanic</a>\n",
       " </td></tr>\n",
       " <tr>\n",
       " <td><a class=\"mw-redirect\" href=\"/wiki/ISO_639:arz\" title=\"ISO 639:arz\">Egyptian Spoken Arabic</a><br/>(excl. <a href=\"/wiki/Sa%CA%BDidi_Arabic\" title=\"Saʽidi Arabic\">Saʽidi Arabic</a>)\n",
       " </td>\n",
       " <td>74.8\n",
       " </td>\n",
       " <td><a href=\"/wiki/Afroasiatic_languages\" title=\"Afroasiatic languages\">Afroasiatic</a>\n",
       " </td>\n",
       " <td><a href=\"/wiki/Semitic_languages\" title=\"Semitic languages\">Semitic</a>\n",
       " </td></tr>\n",
       " <tr>\n",
       " <td><a class=\"mw-redirect\" href=\"/wiki/ISO_639:urd\" title=\"ISO 639:urd\">Urdu</a><br/>(excl. <a href=\"/wiki/Hindi\" title=\"Hindi\">Hindi</a>)\n",
       " </td>\n",
       " <td>70.2\n",
       " </td>\n",
       " <td><a href=\"/wiki/Indo-European_languages\" title=\"Indo-European languages\">Indo-European</a>\n",
       " </td>\n",
       " <td><a href=\"/wiki/Indo-Aryan_languages\" title=\"Indo-Aryan languages\">Indo-Aryan</a>\n",
       " </td></tr>\n",
       " <tr>\n",
       " <td><a class=\"mw-redirect\" href=\"/wiki/ISO_639:jav\" title=\"ISO 639:jav\">Javanese</a>\n",
       " </td>\n",
       " <td>68.3\n",
       " </td>\n",
       " <td><a href=\"/wiki/Austronesian_languages\" title=\"Austronesian languages\">Austronesian</a>\n",
       " </td>\n",
       " <td><a href=\"/wiki/Malayo-Polynesian_languages\" title=\"Malayo-Polynesian languages\">Malayo-Polynesian</a>\n",
       " </td></tr>\n",
       " <tr>\n",
       " <td><a class=\"mw-redirect\" href=\"/wiki/ISO_639:pnb\" title=\"ISO 639:pnb\">Western Punjabi</a><br/>(excl. <a class=\"mw-redirect\" href=\"/wiki/Eastern_Punjabi_language\" title=\"Eastern Punjabi language\">Eastern Punjabi</a>)\n",
       " </td>\n",
       " <td>66.4\n",
       " </td>\n",
       " <td><a href=\"/wiki/Indo-European_languages\" title=\"Indo-European languages\">Indo-European</a>\n",
       " </td>\n",
       " <td><a href=\"/wiki/Indo-Aryan_languages\" title=\"Indo-Aryan languages\">Indo-Aryan</a>\n",
       " </td></tr>\n",
       " <tr>\n",
       " <td><a class=\"mw-redirect\" href=\"/wiki/ISO_639:ita\" title=\"ISO 639:ita\">Italian</a>\n",
       " </td>\n",
       " <td>64.8\n",
       " </td>\n",
       " <td><a href=\"/wiki/Indo-European_languages\" title=\"Indo-European languages\">Indo-European</a>\n",
       " </td>\n",
       " <td><a href=\"/wiki/Romance_languages\" title=\"Romance languages\">Romance</a>\n",
       " </td></tr>\n",
       " <tr>\n",
       " <td><a class=\"mw-redirect\" href=\"/wiki/ISO_639:guj\" title=\"ISO 639:guj\">Gujarati</a>\n",
       " </td>\n",
       " <td>57.0\n",
       " </td>\n",
       " <td><a href=\"/wiki/Indo-European_languages\" title=\"Indo-European languages\">Indo-European</a>\n",
       " </td>\n",
       " <td><a href=\"/wiki/Indo-Aryan_languages\" title=\"Indo-Aryan languages\">Indo-Aryan</a>\n",
       " </td></tr>\n",
       " <tr>\n",
       " <td><a class=\"mw-redirect\" href=\"/wiki/ISO_639:pes\" title=\"ISO 639:pes\">Iranian Persian</a><br/>(excl. <a href=\"/wiki/Dari\" title=\"Dari\">Dari</a> and <a href=\"/wiki/Tajik_language\" title=\"Tajik language\">Tajik</a>)\n",
       " </td>\n",
       " <td>56.4\n",
       " </td>\n",
       " <td><a href=\"/wiki/Indo-European_languages\" title=\"Indo-European languages\">Indo-European</a>\n",
       " </td>\n",
       " <td><a href=\"/wiki/Iranian_languages\" title=\"Iranian languages\">Iranian</a>\n",
       " </td></tr>\n",
       " <tr>\n",
       " <td><a class=\"mw-redirect\" href=\"/wiki/ISO_639:bho\" title=\"ISO 639:bho\">Bhojpuri</a>\n",
       " </td>\n",
       " <td>52.3\n",
       " </td>\n",
       " <td><a href=\"/wiki/Indo-European_languages\" title=\"Indo-European languages\">Indo-European</a>\n",
       " </td>\n",
       " <td><a href=\"/wiki/Indo-Aryan_languages\" title=\"Indo-Aryan languages\">Indo-Aryan</a>\n",
       " </td></tr>\n",
       " <tr>\n",
       " <td><a class=\"mw-redirect\" href=\"/wiki/ISO_639:hau\" title=\"ISO 639:hau\">Hausa</a>\n",
       " </td>\n",
       " <td>50.8\n",
       " </td>\n",
       " <td><a href=\"/wiki/Afroasiatic_languages\" title=\"Afroasiatic languages\">Afroasiatic</a>\n",
       " </td>\n",
       " <td><a href=\"/wiki/Chadic_languages\" title=\"Chadic languages\">Chadic</a>\n",
       " </td></tr></tbody></table>,\n",
       " <table class=\"wikitable sortable\">\n",
       " <caption>Top first languages by population per <i>CIA</i><sup class=\"reference\" id=\"cite_ref-CIA_8-1\"><a href=\"#cite_note-CIA-8\">[8]</a></sup>\n",
       " </caption>\n",
       " <tbody><tr>\n",
       " <th>Rank\n",
       " </th>\n",
       " <th>Language\n",
       " </th>\n",
       " <th>Percentage<br/>of world<br/>population<br/>(2018)\n",
       " </th></tr>\n",
       " <tr>\n",
       " <td>1</td>\n",
       " <td><a href=\"/wiki/Mandarin_Chinese\" title=\"Mandarin Chinese\">Mandarin Chinese</a></td>\n",
       " <td>12.3%\n",
       " </td></tr>\n",
       " <tr>\n",
       " <td>2</td>\n",
       " <td><a href=\"/wiki/Spanish_language\" title=\"Spanish language\">Spanish</a></td>\n",
       " <td>6.0%\n",
       " </td></tr>\n",
       " <tr>\n",
       " <td>3</td>\n",
       " <td><a href=\"/wiki/English_language\" title=\"English language\">English</a></td>\n",
       " <td>5.1%\n",
       " </td></tr>\n",
       " <tr>\n",
       " <td>3</td>\n",
       " <td><a class=\"mw-redirect\" href=\"/wiki/Arabic_language\" title=\"Arabic language\">Arabic</a></td>\n",
       " <td>5.1%\n",
       " </td></tr>\n",
       " <tr>\n",
       " <td>5</td>\n",
       " <td><a class=\"mw-redirect\" href=\"/wiki/Hindi_language\" title=\"Hindi language\">Hindi</a></td>\n",
       " <td>3.5%\n",
       " </td></tr>\n",
       " <tr>\n",
       " <td>6</td>\n",
       " <td><a href=\"/wiki/Bengali_language\" title=\"Bengali language\">Bengali</a></td>\n",
       " <td>3.3%\n",
       " </td></tr>\n",
       " <tr>\n",
       " <td>7</td>\n",
       " <td><a href=\"/wiki/Portuguese_language\" title=\"Portuguese language\">Portuguese</a></td>\n",
       " <td>3.0%\n",
       " </td></tr>\n",
       " <tr>\n",
       " <td>8</td>\n",
       " <td><a href=\"/wiki/Russian_language\" title=\"Russian language\">Russian</a></td>\n",
       " <td>2.1%\n",
       " </td></tr>\n",
       " <tr>\n",
       " <td>9</td>\n",
       " <td><a href=\"/wiki/Japanese_language\" title=\"Japanese language\">Japanese</a></td>\n",
       " <td>1.7%\n",
       " </td></tr>\n",
       " <tr>\n",
       " <td>10</td>\n",
       " <td><a href=\"/wiki/Lahnda\" title=\"Lahnda\">Western Punjabi</a></td>\n",
       " <td>1.3%\n",
       " </td></tr>\n",
       " <tr>\n",
       " <td>11</td>\n",
       " <td><a href=\"/wiki/Javanese_language\" title=\"Javanese language\">Javanese</a></td>\n",
       " <td>1.1%\n",
       " </td></tr></tbody></table>,\n",
       " <table class=\"nowraplinks hlist mw-collapsible autocollapse navbox-inner\" style=\"border-spacing:0;background:transparent;color:inherit\"><tbody><tr><th class=\"navbox-title\" colspan=\"2\" scope=\"col\"><link href=\"mw-data:TemplateStyles:r1129693374\" rel=\"mw-deduplicated-inline-style\"/><style data-mw-deduplicate=\"TemplateStyles:r1063604349\">.mw-parser-output .navbar{display:inline;font-size:88%;font-weight:normal}.mw-parser-output .navbar-collapse{float:left;text-align:left}.mw-parser-output .navbar-boxtext{word-spacing:0}.mw-parser-output .navbar ul{display:inline-block;white-space:nowrap;line-height:inherit}.mw-parser-output .navbar-brackets::before{margin-right:-0.125em;content:\"[ \"}.mw-parser-output .navbar-brackets::after{margin-left:-0.125em;content:\" ]\"}.mw-parser-output .navbar li{word-spacing:-0.125em}.mw-parser-output .navbar a>span,.mw-parser-output .navbar a>abbr{text-decoration:inherit}.mw-parser-output .navbar-mini abbr{font-variant:small-caps;border-bottom:none;text-decoration:none;cursor:inherit}.mw-parser-output .navbar-ct-full{font-size:114%;margin:0 7em}.mw-parser-output .navbar-ct-mini{font-size:114%;margin:0 4em}</style><div class=\"navbar plainlinks hlist navbar-mini\"><ul><li class=\"nv-view\"><a href=\"/wiki/Template:Countries_and_languages_lists\" title=\"Template:Countries and languages lists\"><abbr style=\";;background:none transparent;border:none;box-shadow:none;padding:0;\" title=\"View this template\">v</abbr></a></li><li class=\"nv-talk\"><a href=\"/wiki/Template_talk:Countries_and_languages_lists\" title=\"Template talk:Countries and languages lists\"><abbr style=\";;background:none transparent;border:none;box-shadow:none;padding:0;\" title=\"Discuss this template\">t</abbr></a></li><li class=\"nv-edit\"><a class=\"external text\" href=\"https://en.wikipedia.org/w/index.php?title=Template:Countries_and_languages_lists&amp;action=edit\"><abbr style=\";;background:none transparent;border:none;box-shadow:none;padding:0;\" title=\"Edit this template\">e</abbr></a></li></ul></div><div id=\"Countries_and_languages_lists\" style=\"font-size:114%;margin:0 4em\"><a class=\"mw-redirect\" href=\"/wiki/Lists_of_countries_and_territories\" title=\"Lists of countries and territories\">Countries</a> and <a href=\"/wiki/Lists_of_languages\" title=\"Lists of languages\">languages</a> lists</div></th></tr><tr><td class=\"navbox-list navbox-odd\" colspan=\"2\" style=\"width:100%;padding:0\"><div style=\"padding:0 0.25em\"></div><table class=\"nowraplinks mw-collapsible expanded navbox-subgroup\" style=\"border-spacing:0\"><tbody><tr><th class=\"navbox-title\" colspan=\"2\" scope=\"col\"><div id=\"Countries\" style=\"font-size:114%;margin:0 4em\">Countries</div></th></tr><tr><td class=\"navbox-list navbox-odd\" colspan=\"2\" style=\"width:100%;padding:0\"><div style=\"padding:0 0.25em\"></div><table class=\"nowraplinks navbox-subgroup\" style=\"border-spacing:0\"><tbody><tr><th class=\"navbox-group\" scope=\"row\" style=\"width:1%\">By languages</th><td class=\"navbox-list-with-group navbox-list navbox-odd\" style=\"width:100%;padding:0\"><div style=\"padding:0 0.25em\"></div><table class=\"nowraplinks navbox-subgroup\" style=\"border-spacing:0\"><tbody><tr><th class=\"navbox-group\" scope=\"row\" style=\"width:1%;font-weight:normal;\">Spoken</th><td class=\"navbox-list-with-group navbox-list navbox-odd\" style=\"width:100%;padding:0\"><div style=\"padding:0 0.25em\">\n",
       " <ul><li><a href=\"/wiki/List_of_countries_by_spoken_languages\" title=\"List of countries by spoken languages\">Countries by spoken languages</a></li></ul>\n",
       " </div></td></tr><tr><th class=\"navbox-group\" scope=\"row\" style=\"width:1%;font-weight:normal;\"><a href=\"/wiki/Official_language\" title=\"Official language\">Official</a></th><td class=\"navbox-list-with-group navbox-list navbox-even\" style=\"width:100%;padding:0\"><div style=\"padding:0 0.25em\">\n",
       " <ul><li><a href=\"/wiki/List_of_countries_by_the_number_of_recognized_official_languages\" title=\"List of countries by the number of recognized official languages\">Countries by the number of recognized official languages</a></li>\n",
       " <li><a class=\"mw-redirect\" href=\"/wiki/List_of_countries_where_Arabic_is_an_official_language\" title=\"List of countries where Arabic is an official language\">Arabic</a></li>\n",
       " <li><a href=\"/wiki/List_of_countries_and_territories_where_Chinese_is_an_official_language\" title=\"List of countries and territories where Chinese is an official language\">Chinese</a></li>\n",
       " <li><a href=\"/wiki/List_of_countries_and_territories_where_Afrikaans_or_Dutch_are_official_languages\" title=\"List of countries and territories where Afrikaans or Dutch are official languages\">Dutch/Afrikaans</a></li>\n",
       " <li><a href=\"/wiki/List_of_countries_and_territories_where_English_is_an_official_language\" title=\"List of countries and territories where English is an official language\">English</a></li>\n",
       " <li><a href=\"/wiki/List_of_countries_and_territories_where_French_is_an_official_language\" title=\"List of countries and territories where French is an official language\">French</a></li>\n",
       " <li><a href=\"/wiki/List_of_countries_and_territories_where_German_is_an_official_language\" title=\"List of countries and territories where German is an official language\">German</a></li>\n",
       " <li><a href=\"/wiki/List_of_countries_and_territories_where_Hindustani_is_an_official_language\" title=\"List of countries and territories where Hindustani is an official language\">Hindustani</a></li>\n",
       " <li><a href=\"/wiki/List_of_countries_and_territories_where_Italian_is_an_official_language\" title=\"List of countries and territories where Italian is an official language\">Italian</a></li>\n",
       " <li><a href=\"/wiki/List_of_countries_and_territories_where_Malay_is_an_official_language\" title=\"List of countries and territories where Malay is an official language\">Malay</a></li>\n",
       " <li><a href=\"/wiki/List_of_countries_and_territories_where_Persian_is_an_official_language\" title=\"List of countries and territories where Persian is an official language\">Persian</a></li>\n",
       " <li><a href=\"/wiki/List_of_countries_and_territories_where_Portuguese_is_an_official_language\" title=\"List of countries and territories where Portuguese is an official language\">Portuguese</a></li>\n",
       " <li><a href=\"/wiki/List_of_countries_and_territories_where_Romanian_is_an_official_language\" title=\"List of countries and territories where Romanian is an official language\">Romanian</a></li>\n",
       " <li><a href=\"/wiki/List_of_countries_and_territories_where_Russian_is_an_official_language\" title=\"List of countries and territories where Russian is an official language\">Russian</a></li>\n",
       " <li><a class=\"mw-redirect\" href=\"/wiki/List_of_countries_where_Spanish_is_an_official_language\" title=\"List of countries where Spanish is an official language\">Spanish</a></li>\n",
       " <li><a href=\"/wiki/List_of_countries_and_territories_where_Tamil_is_an_official_language\" title=\"List of countries and territories where Tamil is an official language\">Tamil</a></li></ul>\n",
       " </div></td></tr></tbody></table><div></div></td></tr><tr><th class=\"navbox-group\" scope=\"row\" style=\"width:1%\"><a href=\"/wiki/Endonym_and_exonym\" title=\"Endonym and exonym\">Endonyms</a></th><td class=\"navbox-list-with-group navbox-list navbox-odd\" style=\"width:100%;padding:0\"><div style=\"padding:0 0.25em\">\n",
       " <ul><li><a href=\"/wiki/List_of_countries_and_dependencies_and_their_capitals_in_native_languages\" title=\"List of countries and dependencies and their capitals in native languages\">Countries and capitals in native languages</a></li></ul>\n",
       " </div></td></tr><tr><th class=\"navbox-group\" scope=\"row\" style=\"width:1%\"><a href=\"/wiki/Endonym_and_exonym\" title=\"Endonym and exonym\">Exonyms</a></th><td class=\"navbox-list-with-group navbox-list navbox-even\" style=\"width:100%;padding:0\"><div style=\"padding:0 0.25em\">\n",
       " <ul><li><a href=\"/wiki/List_of_country_names_in_various_languages\" title=\"List of country names in various languages\">Country names in various languages</a>\n",
       " <ul><li><a href=\"/wiki/List_of_country_names_in_various_languages_(A%E2%80%93C)\" title=\"List of country names in various languages (A–C)\">A–C</a></li>\n",
       " <li><a href=\"/wiki/List_of_country_names_in_various_languages_(D%E2%80%93I)\" title=\"List of country names in various languages (D–I)\">D–I</a></li>\n",
       " <li><a href=\"/wiki/List_of_country_names_in_various_languages_(J%E2%80%93P)\" title=\"List of country names in various languages (J–P)\">J–P</a></li>\n",
       " <li><a href=\"/wiki/List_of_country_names_in_various_languages_(Q%E2%80%93Z)\" title=\"List of country names in various languages (Q–Z)\">Q–Z</a></li>\n",
       " <li><a href=\"/wiki/Names_of_Cambodia\" title=\"Names of Cambodia\">Cambodia</a></li>\n",
       " <li><a href=\"/wiki/Names_of_China\" title=\"Names of China\">China</a></li>\n",
       " <li><a href=\"/wiki/Names_of_Germany\" title=\"Names of Germany\">Germany</a></li>\n",
       " <li><a href=\"/wiki/Names_of_Iceland\" title=\"Names of Iceland\">Iceland</a></li>\n",
       " <li><a href=\"/wiki/Names_for_India\" title=\"Names for India\">India</a></li>\n",
       " <li><a href=\"/wiki/Names_of_Indonesia\" title=\"Names of Indonesia\">Indonesia</a></li>\n",
       " <li><a href=\"/wiki/Names_of_Japan\" title=\"Names of Japan\">Japan</a></li>\n",
       " <li><a href=\"/wiki/Names_of_Korea\" title=\"Names of Korea\">Korea</a></li>\n",
       " <li><a href=\"/wiki/Names_of_Kosovo\" title=\"Names of Kosovo\">Kosovo</a></li>\n",
       " <li><a href=\"/wiki/Names_of_Myanmar\" title=\"Names of Myanmar\">Myanmar</a></li>\n",
       " <li><a href=\"/wiki/Names_of_Singapore\" title=\"Names of Singapore\">Singapore</a></li>\n",
       " <li><a href=\"/wiki/Names_of_Sri_Lanka\" title=\"Names of Sri Lanka\">Sri Lanka</a></li>\n",
       " <li><a href=\"/wiki/Names_of_Vietnam\" title=\"Names of Vietnam\">Vietnam</a></li></ul></li>\n",
       " <li><a href=\"/wiki/Languages_of_the_African_Union\" title=\"Languages of the African Union\">Languages of the African Union</a></li>\n",
       " <li><a href=\"/wiki/Languages_of_the_European_Union\" title=\"Languages of the European Union\">Languages of the European Union</a></li></ul>\n",
       " </div></td></tr></tbody></table><div></div></td></tr></tbody></table><div></div></td></tr><tr><td class=\"navbox-list navbox-odd\" colspan=\"2\" style=\"width:100%;padding:0\"><div style=\"padding:0 0.25em\"></div><table class=\"nowraplinks mw-collapsible expanded navbox-subgroup\" style=\"border-spacing:0\"><tbody><tr><th class=\"navbox-title\" colspan=\"2\" scope=\"col\"><div id=\"Languages\" style=\"font-size:114%;margin:0 4em\">Languages</div></th></tr><tr><td class=\"navbox-list navbox-odd\" colspan=\"2\" style=\"width:100%;padding:0\"><div style=\"padding:0 0.25em\"></div><table class=\"nowraplinks navbox-subgroup\" style=\"border-spacing:0\"><tbody><tr><th class=\"navbox-group\" scope=\"row\" style=\"width:1%\">By continent</th><td class=\"navbox-list-with-group navbox-list navbox-odd\" style=\"width:100%;padding:0\"><div style=\"padding:0 0.25em\">\n",
       " <ul><li><a href=\"/wiki/Languages_of_Africa\" title=\"Languages of Africa\">Africa</a></li>\n",
       " <li><a href=\"/wiki/Indigenous_languages_of_the_Americas\" title=\"Indigenous languages of the Americas\">Americas</a>\n",
       " <ul><li><a href=\"/wiki/Languages_of_North_America\" title=\"Languages of North America\">North</a></li>\n",
       " <li><a href=\"/wiki/Languages_of_South_America\" title=\"Languages of South America\">South</a></li></ul></li>\n",
       " <li><a href=\"/wiki/Languages_of_Asia\" title=\"Languages of Asia\">Asia</a>\n",
       " <ul><li><a href=\"/wiki/Languages_of_East_Asia\" title=\"Languages of East Asia\">East</a></li>\n",
       " <li><a href=\"/wiki/Languages_of_South_Asia\" title=\"Languages of South Asia\">South</a></li></ul></li>\n",
       " <li><a href=\"/wiki/Languages_of_Europe\" title=\"Languages of Europe\">Europe</a></li>\n",
       " <li><a href=\"/wiki/Languages_of_Oceania\" title=\"Languages of Oceania\">Oceania</a></li></ul>\n",
       " </div></td></tr><tr><th class=\"navbox-group\" scope=\"row\" style=\"width:1%\">By country</th><td class=\"navbox-list-with-group navbox-list navbox-even\" style=\"width:100%;padding:0\"><div style=\"padding:0 0.25em\">\n",
       " <ul><li><a href=\"/wiki/List_of_official_languages\" title=\"List of official languages\">Official languages</a>\n",
       " <ul><li><a href=\"/wiki/List_of_official_languages_by_country_and_territory\" title=\"List of official languages by country and territory\">by country and territory</a></li></ul></li>\n",
       " <li><a class=\"mw-redirect\" href=\"/wiki/List_of_languages_without_official_status\" title=\"List of languages without official status\">List of languages without official status</a></li>\n",
       " <li><a href=\"/wiki/List_of_countries_by_the_number_of_recognized_official_languages\" title=\"List of countries by the number of recognized official languages\">Countries by the number of recognized official languages</a></li>\n",
       " <li><a href=\"/wiki/List_of_languages_by_the_number_of_countries_in_which_they_are_recognized_as_an_official_language\" title=\"List of languages by the number of countries in which they are recognized as an official language\">Languages by the number of countries in which they are recognized as an official language</a></li>\n",
       " <li><a href=\"/wiki/Number_of_languages_by_country\" title=\"Number of languages by country\">Number of languages</a></li></ul>\n",
       " </div></td></tr><tr><th class=\"navbox-group\" scope=\"row\" style=\"width:1%\">By population</th><td class=\"navbox-list-with-group navbox-list navbox-odd\" style=\"width:100%;padding:0\"><div style=\"padding:0 0.25em\">\n",
       " <ul><li><a class=\"mw-selflink selflink\">By number of native speakers</a></li>\n",
       " <li><a href=\"/wiki/List_of_languages_by_total_number_of_speakers\" title=\"List of languages by total number of speakers\">By number of total speakers</a></li>\n",
       " <li><a href=\"/wiki/Languages_in_censuses\" title=\"Languages in censuses\">Languages in censuses</a></li></ul>\n",
       " </div></td></tr><tr><th class=\"navbox-group\" scope=\"row\" style=\"width:1%\">By <a href=\"/wiki/Language_family\" title=\"Language family\">family</a></th><td class=\"navbox-list-with-group navbox-list navbox-even\" style=\"width:100%;padding:0\"><div style=\"padding:0 0.25em\">\n",
       " <ul><li><a href=\"/wiki/List_of_language_families\" title=\"List of language families\">Language families</a>\n",
       " <ul><li><a class=\"mw-redirect\" href=\"/wiki/List_of_Afro-Asiatic_languages\" title=\"List of Afro-Asiatic languages\">List of Afro-Asiatic languages</a></li>\n",
       " <li><a class=\"mw-redirect\" href=\"/wiki/List_of_Austronesian_languages\" title=\"List of Austronesian languages\">List of Austronesian languages</a></li>\n",
       " <li><a href=\"/wiki/List_of_Indo-European_languages\" title=\"List of Indo-European languages\">List of Indo-European languages</a></li>\n",
       " <li><a href=\"/wiki/List_of_Mongolic_languages\" title=\"List of Mongolic languages\">List of Mongolic languages</a></li>\n",
       " <li><a class=\"mw-redirect\" href=\"/wiki/List_of_Tungusic_languages\" title=\"List of Tungusic languages\">List of Tungusic languages</a></li>\n",
       " <li><a href=\"/wiki/List_of_Turkic_languages\" title=\"List of Turkic languages\">List of Turkic languages</a></li>\n",
       " <li><a href=\"/wiki/List_of_Uralic_languages\" title=\"List of Uralic languages\">List of Uralic languages</a></li></ul></li></ul>\n",
       " </div></td></tr><tr><th class=\"navbox-group\" scope=\"row\" style=\"width:1%\"><div style=\"display: inline-block; line-height: 1.2em; padding: .1em 0;\">Language-based<br/><a href=\"/wiki/Geopolitics\" title=\"Geopolitics\">geopolitical</a><br/>organizations</div></th><td class=\"navbox-list-with-group navbox-list navbox-odd\" style=\"width:100%;padding:0\"><div style=\"padding:0 0.25em\">\n",
       " <ul><li><a href=\"/wiki/Arab_League\" title=\"Arab League\">Arab League <span style=\"font-size:85%;\">(Arabic)</span></a></li>\n",
       " <li><a href=\"/wiki/Dutch_Language_Union\" title=\"Dutch Language Union\">Dutch Language Union <span style=\"font-size:85%;\">(Dutch)</span></a></li>\n",
       " <li><a href=\"/wiki/Commonwealth_of_Nations\" title=\"Commonwealth of Nations\">Commonwealth of Nations <span style=\"font-size:85%;\">(English)</span></a></li>\n",
       " <li><a href=\"/wiki/Latin_Union\" title=\"Latin Union\">Latin Union</a> <span style=\"font-size:85%;\">(<a href=\"/wiki/Romance_languages\" title=\"Romance languages\">Romance</a>)</span></li>\n",
       " <li><a href=\"/wiki/Three_Linguistic_Spaces\" title=\"Three Linguistic Spaces\">Three Linguistic Spaces</a>\n",
       " <ul><li><a href=\"/wiki/Organisation_internationale_de_la_Francophonie\" title=\"Organisation internationale de la Francophonie\">Francophonie <span style=\"font-size:85%;\">(French)</span></a></li>\n",
       " <li><a href=\"/wiki/Community_of_Portuguese_Language_Countries\" title=\"Community of Portuguese Language Countries\">Community of Portuguese Language Countries</a>\n",
       " <ul><li><a href=\"/wiki/Portuguese-speaking_African_countries\" title=\"Portuguese-speaking African countries\"><i>Países Africanos de Língua Oficial Portuguesa</i> <span style=\"font-size:85%;\">(Portuguese)</span></a></li></ul></li>\n",
       " <li><a href=\"/wiki/Hispanidad\" title=\"Hispanidad\">Hispanidad <span style=\"font-size:85%;\">(Spanish)</span></a></li></ul></li>\n",
       " <li><a href=\"/wiki/Organization_of_Turkic_States\" title=\"Organization of Turkic States\">Organization of Turkic States</a> <span style=\"font-size:85%;\">(<a href=\"/wiki/Turkic_languages\" title=\"Turkic languages\">Turkic</a>)</span></li>\n",
       " <li><a href=\"/wiki/International_Organization_of_Turkic_Culture\" title=\"International Organization of Turkic Culture\">International Organization of Turkic Culture</a> <span style=\"font-size:85%;\">(<a href=\"/wiki/Turkic_languages\" title=\"Turkic languages\">Turkic</a>)</span></li></ul>\n",
       " </div></td></tr><tr><th class=\"navbox-group\" scope=\"row\" style=\"width:1%\">See also</th><td class=\"navbox-list-with-group navbox-list navbox-even\" style=\"width:100%;padding:0\"><div style=\"padding:0 0.25em\">\n",
       " <ul><li><a href=\"/wiki/Category:Lists_of_languages\" title=\"Category:Lists of languages\">Lists of languages</a></li>\n",
       " <li><a href=\"/wiki/Category:Languages\" title=\"Category:Languages\">Category:Languages</a></li></ul>\n",
       " </div></td></tr></tbody></table><div></div></td></tr></tbody></table><div></div></td></tr></tbody></table>,\n",
       " <table class=\"nowraplinks mw-collapsible expanded navbox-subgroup\" style=\"border-spacing:0\"><tbody><tr><th class=\"navbox-title\" colspan=\"2\" scope=\"col\"><div id=\"Countries\" style=\"font-size:114%;margin:0 4em\">Countries</div></th></tr><tr><td class=\"navbox-list navbox-odd\" colspan=\"2\" style=\"width:100%;padding:0\"><div style=\"padding:0 0.25em\"></div><table class=\"nowraplinks navbox-subgroup\" style=\"border-spacing:0\"><tbody><tr><th class=\"navbox-group\" scope=\"row\" style=\"width:1%\">By languages</th><td class=\"navbox-list-with-group navbox-list navbox-odd\" style=\"width:100%;padding:0\"><div style=\"padding:0 0.25em\"></div><table class=\"nowraplinks navbox-subgroup\" style=\"border-spacing:0\"><tbody><tr><th class=\"navbox-group\" scope=\"row\" style=\"width:1%;font-weight:normal;\">Spoken</th><td class=\"navbox-list-with-group navbox-list navbox-odd\" style=\"width:100%;padding:0\"><div style=\"padding:0 0.25em\">\n",
       " <ul><li><a href=\"/wiki/List_of_countries_by_spoken_languages\" title=\"List of countries by spoken languages\">Countries by spoken languages</a></li></ul>\n",
       " </div></td></tr><tr><th class=\"navbox-group\" scope=\"row\" style=\"width:1%;font-weight:normal;\"><a href=\"/wiki/Official_language\" title=\"Official language\">Official</a></th><td class=\"navbox-list-with-group navbox-list navbox-even\" style=\"width:100%;padding:0\"><div style=\"padding:0 0.25em\">\n",
       " <ul><li><a href=\"/wiki/List_of_countries_by_the_number_of_recognized_official_languages\" title=\"List of countries by the number of recognized official languages\">Countries by the number of recognized official languages</a></li>\n",
       " <li><a class=\"mw-redirect\" href=\"/wiki/List_of_countries_where_Arabic_is_an_official_language\" title=\"List of countries where Arabic is an official language\">Arabic</a></li>\n",
       " <li><a href=\"/wiki/List_of_countries_and_territories_where_Chinese_is_an_official_language\" title=\"List of countries and territories where Chinese is an official language\">Chinese</a></li>\n",
       " <li><a href=\"/wiki/List_of_countries_and_territories_where_Afrikaans_or_Dutch_are_official_languages\" title=\"List of countries and territories where Afrikaans or Dutch are official languages\">Dutch/Afrikaans</a></li>\n",
       " <li><a href=\"/wiki/List_of_countries_and_territories_where_English_is_an_official_language\" title=\"List of countries and territories where English is an official language\">English</a></li>\n",
       " <li><a href=\"/wiki/List_of_countries_and_territories_where_French_is_an_official_language\" title=\"List of countries and territories where French is an official language\">French</a></li>\n",
       " <li><a href=\"/wiki/List_of_countries_and_territories_where_German_is_an_official_language\" title=\"List of countries and territories where German is an official language\">German</a></li>\n",
       " <li><a href=\"/wiki/List_of_countries_and_territories_where_Hindustani_is_an_official_language\" title=\"List of countries and territories where Hindustani is an official language\">Hindustani</a></li>\n",
       " <li><a href=\"/wiki/List_of_countries_and_territories_where_Italian_is_an_official_language\" title=\"List of countries and territories where Italian is an official language\">Italian</a></li>\n",
       " <li><a href=\"/wiki/List_of_countries_and_territories_where_Malay_is_an_official_language\" title=\"List of countries and territories where Malay is an official language\">Malay</a></li>\n",
       " <li><a href=\"/wiki/List_of_countries_and_territories_where_Persian_is_an_official_language\" title=\"List of countries and territories where Persian is an official language\">Persian</a></li>\n",
       " <li><a href=\"/wiki/List_of_countries_and_territories_where_Portuguese_is_an_official_language\" title=\"List of countries and territories where Portuguese is an official language\">Portuguese</a></li>\n",
       " <li><a href=\"/wiki/List_of_countries_and_territories_where_Romanian_is_an_official_language\" title=\"List of countries and territories where Romanian is an official language\">Romanian</a></li>\n",
       " <li><a href=\"/wiki/List_of_countries_and_territories_where_Russian_is_an_official_language\" title=\"List of countries and territories where Russian is an official language\">Russian</a></li>\n",
       " <li><a class=\"mw-redirect\" href=\"/wiki/List_of_countries_where_Spanish_is_an_official_language\" title=\"List of countries where Spanish is an official language\">Spanish</a></li>\n",
       " <li><a href=\"/wiki/List_of_countries_and_territories_where_Tamil_is_an_official_language\" title=\"List of countries and territories where Tamil is an official language\">Tamil</a></li></ul>\n",
       " </div></td></tr></tbody></table><div></div></td></tr><tr><th class=\"navbox-group\" scope=\"row\" style=\"width:1%\"><a href=\"/wiki/Endonym_and_exonym\" title=\"Endonym and exonym\">Endonyms</a></th><td class=\"navbox-list-with-group navbox-list navbox-odd\" style=\"width:100%;padding:0\"><div style=\"padding:0 0.25em\">\n",
       " <ul><li><a href=\"/wiki/List_of_countries_and_dependencies_and_their_capitals_in_native_languages\" title=\"List of countries and dependencies and their capitals in native languages\">Countries and capitals in native languages</a></li></ul>\n",
       " </div></td></tr><tr><th class=\"navbox-group\" scope=\"row\" style=\"width:1%\"><a href=\"/wiki/Endonym_and_exonym\" title=\"Endonym and exonym\">Exonyms</a></th><td class=\"navbox-list-with-group navbox-list navbox-even\" style=\"width:100%;padding:0\"><div style=\"padding:0 0.25em\">\n",
       " <ul><li><a href=\"/wiki/List_of_country_names_in_various_languages\" title=\"List of country names in various languages\">Country names in various languages</a>\n",
       " <ul><li><a href=\"/wiki/List_of_country_names_in_various_languages_(A%E2%80%93C)\" title=\"List of country names in various languages (A–C)\">A–C</a></li>\n",
       " <li><a href=\"/wiki/List_of_country_names_in_various_languages_(D%E2%80%93I)\" title=\"List of country names in various languages (D–I)\">D–I</a></li>\n",
       " <li><a href=\"/wiki/List_of_country_names_in_various_languages_(J%E2%80%93P)\" title=\"List of country names in various languages (J–P)\">J–P</a></li>\n",
       " <li><a href=\"/wiki/List_of_country_names_in_various_languages_(Q%E2%80%93Z)\" title=\"List of country names in various languages (Q–Z)\">Q–Z</a></li>\n",
       " <li><a href=\"/wiki/Names_of_Cambodia\" title=\"Names of Cambodia\">Cambodia</a></li>\n",
       " <li><a href=\"/wiki/Names_of_China\" title=\"Names of China\">China</a></li>\n",
       " <li><a href=\"/wiki/Names_of_Germany\" title=\"Names of Germany\">Germany</a></li>\n",
       " <li><a href=\"/wiki/Names_of_Iceland\" title=\"Names of Iceland\">Iceland</a></li>\n",
       " <li><a href=\"/wiki/Names_for_India\" title=\"Names for India\">India</a></li>\n",
       " <li><a href=\"/wiki/Names_of_Indonesia\" title=\"Names of Indonesia\">Indonesia</a></li>\n",
       " <li><a href=\"/wiki/Names_of_Japan\" title=\"Names of Japan\">Japan</a></li>\n",
       " <li><a href=\"/wiki/Names_of_Korea\" title=\"Names of Korea\">Korea</a></li>\n",
       " <li><a href=\"/wiki/Names_of_Kosovo\" title=\"Names of Kosovo\">Kosovo</a></li>\n",
       " <li><a href=\"/wiki/Names_of_Myanmar\" title=\"Names of Myanmar\">Myanmar</a></li>\n",
       " <li><a href=\"/wiki/Names_of_Singapore\" title=\"Names of Singapore\">Singapore</a></li>\n",
       " <li><a href=\"/wiki/Names_of_Sri_Lanka\" title=\"Names of Sri Lanka\">Sri Lanka</a></li>\n",
       " <li><a href=\"/wiki/Names_of_Vietnam\" title=\"Names of Vietnam\">Vietnam</a></li></ul></li>\n",
       " <li><a href=\"/wiki/Languages_of_the_African_Union\" title=\"Languages of the African Union\">Languages of the African Union</a></li>\n",
       " <li><a href=\"/wiki/Languages_of_the_European_Union\" title=\"Languages of the European Union\">Languages of the European Union</a></li></ul>\n",
       " </div></td></tr></tbody></table><div></div></td></tr></tbody></table>,\n",
       " <table class=\"nowraplinks navbox-subgroup\" style=\"border-spacing:0\"><tbody><tr><th class=\"navbox-group\" scope=\"row\" style=\"width:1%\">By languages</th><td class=\"navbox-list-with-group navbox-list navbox-odd\" style=\"width:100%;padding:0\"><div style=\"padding:0 0.25em\"></div><table class=\"nowraplinks navbox-subgroup\" style=\"border-spacing:0\"><tbody><tr><th class=\"navbox-group\" scope=\"row\" style=\"width:1%;font-weight:normal;\">Spoken</th><td class=\"navbox-list-with-group navbox-list navbox-odd\" style=\"width:100%;padding:0\"><div style=\"padding:0 0.25em\">\n",
       " <ul><li><a href=\"/wiki/List_of_countries_by_spoken_languages\" title=\"List of countries by spoken languages\">Countries by spoken languages</a></li></ul>\n",
       " </div></td></tr><tr><th class=\"navbox-group\" scope=\"row\" style=\"width:1%;font-weight:normal;\"><a href=\"/wiki/Official_language\" title=\"Official language\">Official</a></th><td class=\"navbox-list-with-group navbox-list navbox-even\" style=\"width:100%;padding:0\"><div style=\"padding:0 0.25em\">\n",
       " <ul><li><a href=\"/wiki/List_of_countries_by_the_number_of_recognized_official_languages\" title=\"List of countries by the number of recognized official languages\">Countries by the number of recognized official languages</a></li>\n",
       " <li><a class=\"mw-redirect\" href=\"/wiki/List_of_countries_where_Arabic_is_an_official_language\" title=\"List of countries where Arabic is an official language\">Arabic</a></li>\n",
       " <li><a href=\"/wiki/List_of_countries_and_territories_where_Chinese_is_an_official_language\" title=\"List of countries and territories where Chinese is an official language\">Chinese</a></li>\n",
       " <li><a href=\"/wiki/List_of_countries_and_territories_where_Afrikaans_or_Dutch_are_official_languages\" title=\"List of countries and territories where Afrikaans or Dutch are official languages\">Dutch/Afrikaans</a></li>\n",
       " <li><a href=\"/wiki/List_of_countries_and_territories_where_English_is_an_official_language\" title=\"List of countries and territories where English is an official language\">English</a></li>\n",
       " <li><a href=\"/wiki/List_of_countries_and_territories_where_French_is_an_official_language\" title=\"List of countries and territories where French is an official language\">French</a></li>\n",
       " <li><a href=\"/wiki/List_of_countries_and_territories_where_German_is_an_official_language\" title=\"List of countries and territories where German is an official language\">German</a></li>\n",
       " <li><a href=\"/wiki/List_of_countries_and_territories_where_Hindustani_is_an_official_language\" title=\"List of countries and territories where Hindustani is an official language\">Hindustani</a></li>\n",
       " <li><a href=\"/wiki/List_of_countries_and_territories_where_Italian_is_an_official_language\" title=\"List of countries and territories where Italian is an official language\">Italian</a></li>\n",
       " <li><a href=\"/wiki/List_of_countries_and_territories_where_Malay_is_an_official_language\" title=\"List of countries and territories where Malay is an official language\">Malay</a></li>\n",
       " <li><a href=\"/wiki/List_of_countries_and_territories_where_Persian_is_an_official_language\" title=\"List of countries and territories where Persian is an official language\">Persian</a></li>\n",
       " <li><a href=\"/wiki/List_of_countries_and_territories_where_Portuguese_is_an_official_language\" title=\"List of countries and territories where Portuguese is an official language\">Portuguese</a></li>\n",
       " <li><a href=\"/wiki/List_of_countries_and_territories_where_Romanian_is_an_official_language\" title=\"List of countries and territories where Romanian is an official language\">Romanian</a></li>\n",
       " <li><a href=\"/wiki/List_of_countries_and_territories_where_Russian_is_an_official_language\" title=\"List of countries and territories where Russian is an official language\">Russian</a></li>\n",
       " <li><a class=\"mw-redirect\" href=\"/wiki/List_of_countries_where_Spanish_is_an_official_language\" title=\"List of countries where Spanish is an official language\">Spanish</a></li>\n",
       " <li><a href=\"/wiki/List_of_countries_and_territories_where_Tamil_is_an_official_language\" title=\"List of countries and territories where Tamil is an official language\">Tamil</a></li></ul>\n",
       " </div></td></tr></tbody></table><div></div></td></tr><tr><th class=\"navbox-group\" scope=\"row\" style=\"width:1%\"><a href=\"/wiki/Endonym_and_exonym\" title=\"Endonym and exonym\">Endonyms</a></th><td class=\"navbox-list-with-group navbox-list navbox-odd\" style=\"width:100%;padding:0\"><div style=\"padding:0 0.25em\">\n",
       " <ul><li><a href=\"/wiki/List_of_countries_and_dependencies_and_their_capitals_in_native_languages\" title=\"List of countries and dependencies and their capitals in native languages\">Countries and capitals in native languages</a></li></ul>\n",
       " </div></td></tr><tr><th class=\"navbox-group\" scope=\"row\" style=\"width:1%\"><a href=\"/wiki/Endonym_and_exonym\" title=\"Endonym and exonym\">Exonyms</a></th><td class=\"navbox-list-with-group navbox-list navbox-even\" style=\"width:100%;padding:0\"><div style=\"padding:0 0.25em\">\n",
       " <ul><li><a href=\"/wiki/List_of_country_names_in_various_languages\" title=\"List of country names in various languages\">Country names in various languages</a>\n",
       " <ul><li><a href=\"/wiki/List_of_country_names_in_various_languages_(A%E2%80%93C)\" title=\"List of country names in various languages (A–C)\">A–C</a></li>\n",
       " <li><a href=\"/wiki/List_of_country_names_in_various_languages_(D%E2%80%93I)\" title=\"List of country names in various languages (D–I)\">D–I</a></li>\n",
       " <li><a href=\"/wiki/List_of_country_names_in_various_languages_(J%E2%80%93P)\" title=\"List of country names in various languages (J–P)\">J–P</a></li>\n",
       " <li><a href=\"/wiki/List_of_country_names_in_various_languages_(Q%E2%80%93Z)\" title=\"List of country names in various languages (Q–Z)\">Q–Z</a></li>\n",
       " <li><a href=\"/wiki/Names_of_Cambodia\" title=\"Names of Cambodia\">Cambodia</a></li>\n",
       " <li><a href=\"/wiki/Names_of_China\" title=\"Names of China\">China</a></li>\n",
       " <li><a href=\"/wiki/Names_of_Germany\" title=\"Names of Germany\">Germany</a></li>\n",
       " <li><a href=\"/wiki/Names_of_Iceland\" title=\"Names of Iceland\">Iceland</a></li>\n",
       " <li><a href=\"/wiki/Names_for_India\" title=\"Names for India\">India</a></li>\n",
       " <li><a href=\"/wiki/Names_of_Indonesia\" title=\"Names of Indonesia\">Indonesia</a></li>\n",
       " <li><a href=\"/wiki/Names_of_Japan\" title=\"Names of Japan\">Japan</a></li>\n",
       " <li><a href=\"/wiki/Names_of_Korea\" title=\"Names of Korea\">Korea</a></li>\n",
       " <li><a href=\"/wiki/Names_of_Kosovo\" title=\"Names of Kosovo\">Kosovo</a></li>\n",
       " <li><a href=\"/wiki/Names_of_Myanmar\" title=\"Names of Myanmar\">Myanmar</a></li>\n",
       " <li><a href=\"/wiki/Names_of_Singapore\" title=\"Names of Singapore\">Singapore</a></li>\n",
       " <li><a href=\"/wiki/Names_of_Sri_Lanka\" title=\"Names of Sri Lanka\">Sri Lanka</a></li>\n",
       " <li><a href=\"/wiki/Names_of_Vietnam\" title=\"Names of Vietnam\">Vietnam</a></li></ul></li>\n",
       " <li><a href=\"/wiki/Languages_of_the_African_Union\" title=\"Languages of the African Union\">Languages of the African Union</a></li>\n",
       " <li><a href=\"/wiki/Languages_of_the_European_Union\" title=\"Languages of the European Union\">Languages of the European Union</a></li></ul>\n",
       " </div></td></tr></tbody></table>,\n",
       " <table class=\"nowraplinks navbox-subgroup\" style=\"border-spacing:0\"><tbody><tr><th class=\"navbox-group\" scope=\"row\" style=\"width:1%;font-weight:normal;\">Spoken</th><td class=\"navbox-list-with-group navbox-list navbox-odd\" style=\"width:100%;padding:0\"><div style=\"padding:0 0.25em\">\n",
       " <ul><li><a href=\"/wiki/List_of_countries_by_spoken_languages\" title=\"List of countries by spoken languages\">Countries by spoken languages</a></li></ul>\n",
       " </div></td></tr><tr><th class=\"navbox-group\" scope=\"row\" style=\"width:1%;font-weight:normal;\"><a href=\"/wiki/Official_language\" title=\"Official language\">Official</a></th><td class=\"navbox-list-with-group navbox-list navbox-even\" style=\"width:100%;padding:0\"><div style=\"padding:0 0.25em\">\n",
       " <ul><li><a href=\"/wiki/List_of_countries_by_the_number_of_recognized_official_languages\" title=\"List of countries by the number of recognized official languages\">Countries by the number of recognized official languages</a></li>\n",
       " <li><a class=\"mw-redirect\" href=\"/wiki/List_of_countries_where_Arabic_is_an_official_language\" title=\"List of countries where Arabic is an official language\">Arabic</a></li>\n",
       " <li><a href=\"/wiki/List_of_countries_and_territories_where_Chinese_is_an_official_language\" title=\"List of countries and territories where Chinese is an official language\">Chinese</a></li>\n",
       " <li><a href=\"/wiki/List_of_countries_and_territories_where_Afrikaans_or_Dutch_are_official_languages\" title=\"List of countries and territories where Afrikaans or Dutch are official languages\">Dutch/Afrikaans</a></li>\n",
       " <li><a href=\"/wiki/List_of_countries_and_territories_where_English_is_an_official_language\" title=\"List of countries and territories where English is an official language\">English</a></li>\n",
       " <li><a href=\"/wiki/List_of_countries_and_territories_where_French_is_an_official_language\" title=\"List of countries and territories where French is an official language\">French</a></li>\n",
       " <li><a href=\"/wiki/List_of_countries_and_territories_where_German_is_an_official_language\" title=\"List of countries and territories where German is an official language\">German</a></li>\n",
       " <li><a href=\"/wiki/List_of_countries_and_territories_where_Hindustani_is_an_official_language\" title=\"List of countries and territories where Hindustani is an official language\">Hindustani</a></li>\n",
       " <li><a href=\"/wiki/List_of_countries_and_territories_where_Italian_is_an_official_language\" title=\"List of countries and territories where Italian is an official language\">Italian</a></li>\n",
       " <li><a href=\"/wiki/List_of_countries_and_territories_where_Malay_is_an_official_language\" title=\"List of countries and territories where Malay is an official language\">Malay</a></li>\n",
       " <li><a href=\"/wiki/List_of_countries_and_territories_where_Persian_is_an_official_language\" title=\"List of countries and territories where Persian is an official language\">Persian</a></li>\n",
       " <li><a href=\"/wiki/List_of_countries_and_territories_where_Portuguese_is_an_official_language\" title=\"List of countries and territories where Portuguese is an official language\">Portuguese</a></li>\n",
       " <li><a href=\"/wiki/List_of_countries_and_territories_where_Romanian_is_an_official_language\" title=\"List of countries and territories where Romanian is an official language\">Romanian</a></li>\n",
       " <li><a href=\"/wiki/List_of_countries_and_territories_where_Russian_is_an_official_language\" title=\"List of countries and territories where Russian is an official language\">Russian</a></li>\n",
       " <li><a class=\"mw-redirect\" href=\"/wiki/List_of_countries_where_Spanish_is_an_official_language\" title=\"List of countries where Spanish is an official language\">Spanish</a></li>\n",
       " <li><a href=\"/wiki/List_of_countries_and_territories_where_Tamil_is_an_official_language\" title=\"List of countries and territories where Tamil is an official language\">Tamil</a></li></ul>\n",
       " </div></td></tr></tbody></table>,\n",
       " <table class=\"nowraplinks mw-collapsible expanded navbox-subgroup\" style=\"border-spacing:0\"><tbody><tr><th class=\"navbox-title\" colspan=\"2\" scope=\"col\"><div id=\"Languages\" style=\"font-size:114%;margin:0 4em\">Languages</div></th></tr><tr><td class=\"navbox-list navbox-odd\" colspan=\"2\" style=\"width:100%;padding:0\"><div style=\"padding:0 0.25em\"></div><table class=\"nowraplinks navbox-subgroup\" style=\"border-spacing:0\"><tbody><tr><th class=\"navbox-group\" scope=\"row\" style=\"width:1%\">By continent</th><td class=\"navbox-list-with-group navbox-list navbox-odd\" style=\"width:100%;padding:0\"><div style=\"padding:0 0.25em\">\n",
       " <ul><li><a href=\"/wiki/Languages_of_Africa\" title=\"Languages of Africa\">Africa</a></li>\n",
       " <li><a href=\"/wiki/Indigenous_languages_of_the_Americas\" title=\"Indigenous languages of the Americas\">Americas</a>\n",
       " <ul><li><a href=\"/wiki/Languages_of_North_America\" title=\"Languages of North America\">North</a></li>\n",
       " <li><a href=\"/wiki/Languages_of_South_America\" title=\"Languages of South America\">South</a></li></ul></li>\n",
       " <li><a href=\"/wiki/Languages_of_Asia\" title=\"Languages of Asia\">Asia</a>\n",
       " <ul><li><a href=\"/wiki/Languages_of_East_Asia\" title=\"Languages of East Asia\">East</a></li>\n",
       " <li><a href=\"/wiki/Languages_of_South_Asia\" title=\"Languages of South Asia\">South</a></li></ul></li>\n",
       " <li><a href=\"/wiki/Languages_of_Europe\" title=\"Languages of Europe\">Europe</a></li>\n",
       " <li><a href=\"/wiki/Languages_of_Oceania\" title=\"Languages of Oceania\">Oceania</a></li></ul>\n",
       " </div></td></tr><tr><th class=\"navbox-group\" scope=\"row\" style=\"width:1%\">By country</th><td class=\"navbox-list-with-group navbox-list navbox-even\" style=\"width:100%;padding:0\"><div style=\"padding:0 0.25em\">\n",
       " <ul><li><a href=\"/wiki/List_of_official_languages\" title=\"List of official languages\">Official languages</a>\n",
       " <ul><li><a href=\"/wiki/List_of_official_languages_by_country_and_territory\" title=\"List of official languages by country and territory\">by country and territory</a></li></ul></li>\n",
       " <li><a class=\"mw-redirect\" href=\"/wiki/List_of_languages_without_official_status\" title=\"List of languages without official status\">List of languages without official status</a></li>\n",
       " <li><a href=\"/wiki/List_of_countries_by_the_number_of_recognized_official_languages\" title=\"List of countries by the number of recognized official languages\">Countries by the number of recognized official languages</a></li>\n",
       " <li><a href=\"/wiki/List_of_languages_by_the_number_of_countries_in_which_they_are_recognized_as_an_official_language\" title=\"List of languages by the number of countries in which they are recognized as an official language\">Languages by the number of countries in which they are recognized as an official language</a></li>\n",
       " <li><a href=\"/wiki/Number_of_languages_by_country\" title=\"Number of languages by country\">Number of languages</a></li></ul>\n",
       " </div></td></tr><tr><th class=\"navbox-group\" scope=\"row\" style=\"width:1%\">By population</th><td class=\"navbox-list-with-group navbox-list navbox-odd\" style=\"width:100%;padding:0\"><div style=\"padding:0 0.25em\">\n",
       " <ul><li><a class=\"mw-selflink selflink\">By number of native speakers</a></li>\n",
       " <li><a href=\"/wiki/List_of_languages_by_total_number_of_speakers\" title=\"List of languages by total number of speakers\">By number of total speakers</a></li>\n",
       " <li><a href=\"/wiki/Languages_in_censuses\" title=\"Languages in censuses\">Languages in censuses</a></li></ul>\n",
       " </div></td></tr><tr><th class=\"navbox-group\" scope=\"row\" style=\"width:1%\">By <a href=\"/wiki/Language_family\" title=\"Language family\">family</a></th><td class=\"navbox-list-with-group navbox-list navbox-even\" style=\"width:100%;padding:0\"><div style=\"padding:0 0.25em\">\n",
       " <ul><li><a href=\"/wiki/List_of_language_families\" title=\"List of language families\">Language families</a>\n",
       " <ul><li><a class=\"mw-redirect\" href=\"/wiki/List_of_Afro-Asiatic_languages\" title=\"List of Afro-Asiatic languages\">List of Afro-Asiatic languages</a></li>\n",
       " <li><a class=\"mw-redirect\" href=\"/wiki/List_of_Austronesian_languages\" title=\"List of Austronesian languages\">List of Austronesian languages</a></li>\n",
       " <li><a href=\"/wiki/List_of_Indo-European_languages\" title=\"List of Indo-European languages\">List of Indo-European languages</a></li>\n",
       " <li><a href=\"/wiki/List_of_Mongolic_languages\" title=\"List of Mongolic languages\">List of Mongolic languages</a></li>\n",
       " <li><a class=\"mw-redirect\" href=\"/wiki/List_of_Tungusic_languages\" title=\"List of Tungusic languages\">List of Tungusic languages</a></li>\n",
       " <li><a href=\"/wiki/List_of_Turkic_languages\" title=\"List of Turkic languages\">List of Turkic languages</a></li>\n",
       " <li><a href=\"/wiki/List_of_Uralic_languages\" title=\"List of Uralic languages\">List of Uralic languages</a></li></ul></li></ul>\n",
       " </div></td></tr><tr><th class=\"navbox-group\" scope=\"row\" style=\"width:1%\"><div style=\"display: inline-block; line-height: 1.2em; padding: .1em 0;\">Language-based<br/><a href=\"/wiki/Geopolitics\" title=\"Geopolitics\">geopolitical</a><br/>organizations</div></th><td class=\"navbox-list-with-group navbox-list navbox-odd\" style=\"width:100%;padding:0\"><div style=\"padding:0 0.25em\">\n",
       " <ul><li><a href=\"/wiki/Arab_League\" title=\"Arab League\">Arab League <span style=\"font-size:85%;\">(Arabic)</span></a></li>\n",
       " <li><a href=\"/wiki/Dutch_Language_Union\" title=\"Dutch Language Union\">Dutch Language Union <span style=\"font-size:85%;\">(Dutch)</span></a></li>\n",
       " <li><a href=\"/wiki/Commonwealth_of_Nations\" title=\"Commonwealth of Nations\">Commonwealth of Nations <span style=\"font-size:85%;\">(English)</span></a></li>\n",
       " <li><a href=\"/wiki/Latin_Union\" title=\"Latin Union\">Latin Union</a> <span style=\"font-size:85%;\">(<a href=\"/wiki/Romance_languages\" title=\"Romance languages\">Romance</a>)</span></li>\n",
       " <li><a href=\"/wiki/Three_Linguistic_Spaces\" title=\"Three Linguistic Spaces\">Three Linguistic Spaces</a>\n",
       " <ul><li><a href=\"/wiki/Organisation_internationale_de_la_Francophonie\" title=\"Organisation internationale de la Francophonie\">Francophonie <span style=\"font-size:85%;\">(French)</span></a></li>\n",
       " <li><a href=\"/wiki/Community_of_Portuguese_Language_Countries\" title=\"Community of Portuguese Language Countries\">Community of Portuguese Language Countries</a>\n",
       " <ul><li><a href=\"/wiki/Portuguese-speaking_African_countries\" title=\"Portuguese-speaking African countries\"><i>Países Africanos de Língua Oficial Portuguesa</i> <span style=\"font-size:85%;\">(Portuguese)</span></a></li></ul></li>\n",
       " <li><a href=\"/wiki/Hispanidad\" title=\"Hispanidad\">Hispanidad <span style=\"font-size:85%;\">(Spanish)</span></a></li></ul></li>\n",
       " <li><a href=\"/wiki/Organization_of_Turkic_States\" title=\"Organization of Turkic States\">Organization of Turkic States</a> <span style=\"font-size:85%;\">(<a href=\"/wiki/Turkic_languages\" title=\"Turkic languages\">Turkic</a>)</span></li>\n",
       " <li><a href=\"/wiki/International_Organization_of_Turkic_Culture\" title=\"International Organization of Turkic Culture\">International Organization of Turkic Culture</a> <span style=\"font-size:85%;\">(<a href=\"/wiki/Turkic_languages\" title=\"Turkic languages\">Turkic</a>)</span></li></ul>\n",
       " </div></td></tr><tr><th class=\"navbox-group\" scope=\"row\" style=\"width:1%\">See also</th><td class=\"navbox-list-with-group navbox-list navbox-even\" style=\"width:100%;padding:0\"><div style=\"padding:0 0.25em\">\n",
       " <ul><li><a href=\"/wiki/Category:Lists_of_languages\" title=\"Category:Lists of languages\">Lists of languages</a></li>\n",
       " <li><a href=\"/wiki/Category:Languages\" title=\"Category:Languages\">Category:Languages</a></li></ul>\n",
       " </div></td></tr></tbody></table><div></div></td></tr></tbody></table>,\n",
       " <table class=\"nowraplinks navbox-subgroup\" style=\"border-spacing:0\"><tbody><tr><th class=\"navbox-group\" scope=\"row\" style=\"width:1%\">By continent</th><td class=\"navbox-list-with-group navbox-list navbox-odd\" style=\"width:100%;padding:0\"><div style=\"padding:0 0.25em\">\n",
       " <ul><li><a href=\"/wiki/Languages_of_Africa\" title=\"Languages of Africa\">Africa</a></li>\n",
       " <li><a href=\"/wiki/Indigenous_languages_of_the_Americas\" title=\"Indigenous languages of the Americas\">Americas</a>\n",
       " <ul><li><a href=\"/wiki/Languages_of_North_America\" title=\"Languages of North America\">North</a></li>\n",
       " <li><a href=\"/wiki/Languages_of_South_America\" title=\"Languages of South America\">South</a></li></ul></li>\n",
       " <li><a href=\"/wiki/Languages_of_Asia\" title=\"Languages of Asia\">Asia</a>\n",
       " <ul><li><a href=\"/wiki/Languages_of_East_Asia\" title=\"Languages of East Asia\">East</a></li>\n",
       " <li><a href=\"/wiki/Languages_of_South_Asia\" title=\"Languages of South Asia\">South</a></li></ul></li>\n",
       " <li><a href=\"/wiki/Languages_of_Europe\" title=\"Languages of Europe\">Europe</a></li>\n",
       " <li><a href=\"/wiki/Languages_of_Oceania\" title=\"Languages of Oceania\">Oceania</a></li></ul>\n",
       " </div></td></tr><tr><th class=\"navbox-group\" scope=\"row\" style=\"width:1%\">By country</th><td class=\"navbox-list-with-group navbox-list navbox-even\" style=\"width:100%;padding:0\"><div style=\"padding:0 0.25em\">\n",
       " <ul><li><a href=\"/wiki/List_of_official_languages\" title=\"List of official languages\">Official languages</a>\n",
       " <ul><li><a href=\"/wiki/List_of_official_languages_by_country_and_territory\" title=\"List of official languages by country and territory\">by country and territory</a></li></ul></li>\n",
       " <li><a class=\"mw-redirect\" href=\"/wiki/List_of_languages_without_official_status\" title=\"List of languages without official status\">List of languages without official status</a></li>\n",
       " <li><a href=\"/wiki/List_of_countries_by_the_number_of_recognized_official_languages\" title=\"List of countries by the number of recognized official languages\">Countries by the number of recognized official languages</a></li>\n",
       " <li><a href=\"/wiki/List_of_languages_by_the_number_of_countries_in_which_they_are_recognized_as_an_official_language\" title=\"List of languages by the number of countries in which they are recognized as an official language\">Languages by the number of countries in which they are recognized as an official language</a></li>\n",
       " <li><a href=\"/wiki/Number_of_languages_by_country\" title=\"Number of languages by country\">Number of languages</a></li></ul>\n",
       " </div></td></tr><tr><th class=\"navbox-group\" scope=\"row\" style=\"width:1%\">By population</th><td class=\"navbox-list-with-group navbox-list navbox-odd\" style=\"width:100%;padding:0\"><div style=\"padding:0 0.25em\">\n",
       " <ul><li><a class=\"mw-selflink selflink\">By number of native speakers</a></li>\n",
       " <li><a href=\"/wiki/List_of_languages_by_total_number_of_speakers\" title=\"List of languages by total number of speakers\">By number of total speakers</a></li>\n",
       " <li><a href=\"/wiki/Languages_in_censuses\" title=\"Languages in censuses\">Languages in censuses</a></li></ul>\n",
       " </div></td></tr><tr><th class=\"navbox-group\" scope=\"row\" style=\"width:1%\">By <a href=\"/wiki/Language_family\" title=\"Language family\">family</a></th><td class=\"navbox-list-with-group navbox-list navbox-even\" style=\"width:100%;padding:0\"><div style=\"padding:0 0.25em\">\n",
       " <ul><li><a href=\"/wiki/List_of_language_families\" title=\"List of language families\">Language families</a>\n",
       " <ul><li><a class=\"mw-redirect\" href=\"/wiki/List_of_Afro-Asiatic_languages\" title=\"List of Afro-Asiatic languages\">List of Afro-Asiatic languages</a></li>\n",
       " <li><a class=\"mw-redirect\" href=\"/wiki/List_of_Austronesian_languages\" title=\"List of Austronesian languages\">List of Austronesian languages</a></li>\n",
       " <li><a href=\"/wiki/List_of_Indo-European_languages\" title=\"List of Indo-European languages\">List of Indo-European languages</a></li>\n",
       " <li><a href=\"/wiki/List_of_Mongolic_languages\" title=\"List of Mongolic languages\">List of Mongolic languages</a></li>\n",
       " <li><a class=\"mw-redirect\" href=\"/wiki/List_of_Tungusic_languages\" title=\"List of Tungusic languages\">List of Tungusic languages</a></li>\n",
       " <li><a href=\"/wiki/List_of_Turkic_languages\" title=\"List of Turkic languages\">List of Turkic languages</a></li>\n",
       " <li><a href=\"/wiki/List_of_Uralic_languages\" title=\"List of Uralic languages\">List of Uralic languages</a></li></ul></li></ul>\n",
       " </div></td></tr><tr><th class=\"navbox-group\" scope=\"row\" style=\"width:1%\"><div style=\"display: inline-block; line-height: 1.2em; padding: .1em 0;\">Language-based<br/><a href=\"/wiki/Geopolitics\" title=\"Geopolitics\">geopolitical</a><br/>organizations</div></th><td class=\"navbox-list-with-group navbox-list navbox-odd\" style=\"width:100%;padding:0\"><div style=\"padding:0 0.25em\">\n",
       " <ul><li><a href=\"/wiki/Arab_League\" title=\"Arab League\">Arab League <span style=\"font-size:85%;\">(Arabic)</span></a></li>\n",
       " <li><a href=\"/wiki/Dutch_Language_Union\" title=\"Dutch Language Union\">Dutch Language Union <span style=\"font-size:85%;\">(Dutch)</span></a></li>\n",
       " <li><a href=\"/wiki/Commonwealth_of_Nations\" title=\"Commonwealth of Nations\">Commonwealth of Nations <span style=\"font-size:85%;\">(English)</span></a></li>\n",
       " <li><a href=\"/wiki/Latin_Union\" title=\"Latin Union\">Latin Union</a> <span style=\"font-size:85%;\">(<a href=\"/wiki/Romance_languages\" title=\"Romance languages\">Romance</a>)</span></li>\n",
       " <li><a href=\"/wiki/Three_Linguistic_Spaces\" title=\"Three Linguistic Spaces\">Three Linguistic Spaces</a>\n",
       " <ul><li><a href=\"/wiki/Organisation_internationale_de_la_Francophonie\" title=\"Organisation internationale de la Francophonie\">Francophonie <span style=\"font-size:85%;\">(French)</span></a></li>\n",
       " <li><a href=\"/wiki/Community_of_Portuguese_Language_Countries\" title=\"Community of Portuguese Language Countries\">Community of Portuguese Language Countries</a>\n",
       " <ul><li><a href=\"/wiki/Portuguese-speaking_African_countries\" title=\"Portuguese-speaking African countries\"><i>Países Africanos de Língua Oficial Portuguesa</i> <span style=\"font-size:85%;\">(Portuguese)</span></a></li></ul></li>\n",
       " <li><a href=\"/wiki/Hispanidad\" title=\"Hispanidad\">Hispanidad <span style=\"font-size:85%;\">(Spanish)</span></a></li></ul></li>\n",
       " <li><a href=\"/wiki/Organization_of_Turkic_States\" title=\"Organization of Turkic States\">Organization of Turkic States</a> <span style=\"font-size:85%;\">(<a href=\"/wiki/Turkic_languages\" title=\"Turkic languages\">Turkic</a>)</span></li>\n",
       " <li><a href=\"/wiki/International_Organization_of_Turkic_Culture\" title=\"International Organization of Turkic Culture\">International Organization of Turkic Culture</a> <span style=\"font-size:85%;\">(<a href=\"/wiki/Turkic_languages\" title=\"Turkic languages\">Turkic</a>)</span></li></ul>\n",
       " </div></td></tr><tr><th class=\"navbox-group\" scope=\"row\" style=\"width:1%\">See also</th><td class=\"navbox-list-with-group navbox-list navbox-even\" style=\"width:100%;padding:0\"><div style=\"padding:0 0.25em\">\n",
       " <ul><li><a href=\"/wiki/Category:Lists_of_languages\" title=\"Category:Lists of languages\">Lists of languages</a></li>\n",
       " <li><a href=\"/wiki/Category:Languages\" title=\"Category:Languages\">Category:Languages</a></li></ul>\n",
       " </div></td></tr></tbody></table>]"
      ]
     },
     "execution_count": 311,
     "metadata": {},
     "output_type": "execute_result"
    }
   ],
   "source": [
    "nat =soup.find('table', )\n",
    "nat"
   ]
  },
  {
   "cell_type": "markdown",
   "metadata": {},
   "source": [
    "### BONUS QUESTIONS"
   ]
  },
  {
   "cell_type": "markdown",
   "metadata": {},
   "source": [
    "#### Scrape a certain number of tweets of a given Twitter account."
   ]
  },
  {
   "cell_type": "code",
   "execution_count": null,
   "metadata": {},
   "outputs": [],
   "source": [
    "# This is the url you will scrape in this exercise \n",
    "# You will need to add the account credentials to this url\n",
    "url = 'https://twitter.com/'"
   ]
  },
  {
   "cell_type": "code",
   "execution_count": null,
   "metadata": {},
   "outputs": [],
   "source": [
    "# your code"
   ]
  },
  {
   "cell_type": "markdown",
   "metadata": {},
   "source": [
    "#### IMDB's Top 250 data (movie name, Initial release, director name and stars) as a pandas dataframe"
   ]
  },
  {
   "cell_type": "code",
   "execution_count": null,
   "metadata": {},
   "outputs": [],
   "source": [
    "# This is the url you will scrape in this exercise \n",
    "url = 'https://www.imdb.com/chart/top'"
   ]
  },
  {
   "cell_type": "code",
   "execution_count": null,
   "metadata": {},
   "outputs": [],
   "source": [
    "# your code"
   ]
  },
  {
   "cell_type": "markdown",
   "metadata": {},
   "source": [
    "#### Movie name, year and a brief summary of the top 10 random movies (IMDB) as a pandas dataframe."
   ]
  },
  {
   "cell_type": "code",
   "execution_count": null,
   "metadata": {},
   "outputs": [],
   "source": [
    "#This is the url you will scrape in this exercise\n",
    "url = 'http://www.imdb.com/chart/top'"
   ]
  },
  {
   "cell_type": "code",
   "execution_count": null,
   "metadata": {},
   "outputs": [],
   "source": [
    "#your code"
   ]
  },
  {
   "cell_type": "markdown",
   "metadata": {},
   "source": [
    "#### Find the live weather report (temperature, wind speed, description and weather) of a given city."
   ]
  },
  {
   "cell_type": "code",
   "execution_count": null,
   "metadata": {},
   "outputs": [],
   "source": [
    "#https://openweathermap.org/current\n",
    "city = city=input('Enter the city:')\n",
    "url = 'http://api.openweathermap.org/data/2.5/weather?'+'q='+city+'&APPID=b35975e18dc93725acb092f7272cc6b8&units=metric'"
   ]
  },
  {
   "cell_type": "code",
   "execution_count": null,
   "metadata": {},
   "outputs": [],
   "source": [
    "# your code"
   ]
  },
  {
   "cell_type": "markdown",
   "metadata": {},
   "source": [
    "#### Book name,price and stock availability as a pandas dataframe."
   ]
  },
  {
   "cell_type": "code",
   "execution_count": null,
   "metadata": {},
   "outputs": [],
   "source": [
    "# This is the url you will scrape in this exercise. \n",
    "# It is a fictional bookstore created to be scraped. \n",
    "url = 'http://books.toscrape.com/'"
   ]
  },
  {
   "cell_type": "code",
   "execution_count": null,
   "metadata": {},
   "outputs": [],
   "source": [
    "#your code"
   ]
  }
 ],
 "metadata": {
  "kernelspec": {
   "display_name": "Python 3 (ipykernel)",
   "language": "python",
   "name": "python3"
  },
  "language_info": {
   "codemirror_mode": {
    "name": "ipython",
    "version": 3
   },
   "file_extension": ".py",
   "mimetype": "text/x-python",
   "name": "python",
   "nbconvert_exporter": "python",
   "pygments_lexer": "ipython3",
   "version": "3.9.13"
  }
 },
 "nbformat": 4,
 "nbformat_minor": 2
}
